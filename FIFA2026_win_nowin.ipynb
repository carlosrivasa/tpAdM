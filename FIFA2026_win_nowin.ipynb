{
 "cells": [
  {
   "cell_type": "markdown",
   "id": "e2a0cb7e",
   "metadata": {},
   "source": [
    "# Aprendizaje de máquina - Proyecto final (Continuación)"
   ]
  },
  {
   "cell_type": "markdown",
   "id": "f94441c8",
   "metadata": {},
   "source": [
    "**Continuación del análisis del notebook**: [FIFA2026.ipynb](FIFA2026.ipynb)\n",
    "\n",
    "Modificamos el **objetivo**, de modo que ahora se plantea predecir el resultado de los partidos por victoria vs no victoria del local (win, no win)."
   ]
  },
  {
   "cell_type": "code",
   "execution_count": 2,
   "id": "f4c9efd5",
   "metadata": {},
   "outputs": [],
   "source": [
    "import pandas as pd\n",
    "import numpy as np\n",
    "import matplotlib.pyplot as plt\n",
    "import seaborn as sns\n",
    "from sklearn.compose import ColumnTransformer\n",
    "from sklearn.pipeline import Pipeline\n",
    "import category_encoders as ce\n",
    "from sklearn.model_selection import train_test_split\n",
    "from sklearn.preprocessing import StandardScaler\n",
    "from sklearn.linear_model import LogisticRegression\n",
    "from sklearn.neighbors import KNeighborsClassifier\n",
    "from sklearn.svm import SVC\n",
    "from sklearn.tree import DecisionTreeClassifier\n",
    "from sklearn.ensemble import RandomForestClassifier\n",
    "from sklearn.metrics import accuracy_score, confusion_matrix, f1_score, ConfusionMatrixDisplay\n",
    "from sklearn.metrics import classification_report\n",
    "from sklearn.metrics import roc_curve, roc_auc_score, precision_recall_fscore_support, precision_recall_curve"
   ]
  },
  {
   "cell_type": "markdown",
   "id": "da0657ad",
   "metadata": {},
   "source": [
    "##### 1) EDA: Comprensión inicial del dataset, estadísticas descriptivas, identificación de variables, visualizaciones para entender distribuciones, correlaciones y posibles problemas como valores nulos o atípico.\n",
    "\n",
    "Dado que ya se hizo el EDA en el notebook [FIFA2026.ipynb](FIFA2026.ipynb), vamos a limitarnos a lo mínimo indispensable para el caso de win vs no win"
   ]
  },
  {
   "cell_type": "code",
   "execution_count": 3,
   "id": "7d0e95e8",
   "metadata": {},
   "outputs": [],
   "source": [
    "results = pd.read_csv(\"./archive/results.csv\")\n",
    "results[\"date\"] = pd.to_datetime(results[\"date\"])"
   ]
  },
  {
   "cell_type": "markdown",
   "id": "8c859f90",
   "metadata": {},
   "source": [
    "Vemos si el dataset contiene valores nulos y duplicados:"
   ]
  },
  {
   "cell_type": "markdown",
   "id": "f638ef77",
   "metadata": {},
   "source": [
    "Como el dataset original no tiene la variable a predecir, se procede a crearla junto a otras variables utiles para visualizaciones"
   ]
  },
  {
   "cell_type": "code",
   "execution_count": 4,
   "id": "443ffdeb",
   "metadata": {},
   "outputs": [
    {
     "data": {
      "text/html": [
       "<div>\n",
       "<style scoped>\n",
       "    .dataframe tbody tr th:only-of-type {\n",
       "        vertical-align: middle;\n",
       "    }\n",
       "\n",
       "    .dataframe tbody tr th {\n",
       "        vertical-align: top;\n",
       "    }\n",
       "\n",
       "    .dataframe thead th {\n",
       "        text-align: right;\n",
       "    }\n",
       "</style>\n",
       "<table border=\"1\" class=\"dataframe\">\n",
       "  <thead>\n",
       "    <tr style=\"text-align: right;\">\n",
       "      <th></th>\n",
       "      <th>date</th>\n",
       "      <th>home_team</th>\n",
       "      <th>away_team</th>\n",
       "      <th>home_score</th>\n",
       "      <th>away_score</th>\n",
       "      <th>tournament</th>\n",
       "      <th>city</th>\n",
       "      <th>country</th>\n",
       "      <th>neutral</th>\n",
       "      <th>year</th>\n",
       "      <th>month</th>\n",
       "      <th>dayofweek</th>\n",
       "      <th>is_weekend</th>\n",
       "      <th>goal_diff</th>\n",
       "      <th>total_score</th>\n",
       "      <th>result</th>\n",
       "    </tr>\n",
       "  </thead>\n",
       "  <tbody>\n",
       "    <tr>\n",
       "      <th>0</th>\n",
       "      <td>1872-11-30</td>\n",
       "      <td>Scotland</td>\n",
       "      <td>England</td>\n",
       "      <td>0</td>\n",
       "      <td>0</td>\n",
       "      <td>Friendly</td>\n",
       "      <td>Glasgow</td>\n",
       "      <td>Scotland</td>\n",
       "      <td>False</td>\n",
       "      <td>1872</td>\n",
       "      <td>11</td>\n",
       "      <td>5</td>\n",
       "      <td>1</td>\n",
       "      <td>0</td>\n",
       "      <td>0</td>\n",
       "      <td>nowin</td>\n",
       "    </tr>\n",
       "    <tr>\n",
       "      <th>1</th>\n",
       "      <td>1873-03-08</td>\n",
       "      <td>England</td>\n",
       "      <td>Scotland</td>\n",
       "      <td>4</td>\n",
       "      <td>2</td>\n",
       "      <td>Friendly</td>\n",
       "      <td>London</td>\n",
       "      <td>England</td>\n",
       "      <td>False</td>\n",
       "      <td>1873</td>\n",
       "      <td>3</td>\n",
       "      <td>5</td>\n",
       "      <td>1</td>\n",
       "      <td>2</td>\n",
       "      <td>6</td>\n",
       "      <td>win</td>\n",
       "    </tr>\n",
       "    <tr>\n",
       "      <th>2</th>\n",
       "      <td>1874-03-07</td>\n",
       "      <td>Scotland</td>\n",
       "      <td>England</td>\n",
       "      <td>2</td>\n",
       "      <td>1</td>\n",
       "      <td>Friendly</td>\n",
       "      <td>Glasgow</td>\n",
       "      <td>Scotland</td>\n",
       "      <td>False</td>\n",
       "      <td>1874</td>\n",
       "      <td>3</td>\n",
       "      <td>5</td>\n",
       "      <td>1</td>\n",
       "      <td>1</td>\n",
       "      <td>3</td>\n",
       "      <td>win</td>\n",
       "    </tr>\n",
       "    <tr>\n",
       "      <th>3</th>\n",
       "      <td>1875-03-06</td>\n",
       "      <td>England</td>\n",
       "      <td>Scotland</td>\n",
       "      <td>2</td>\n",
       "      <td>2</td>\n",
       "      <td>Friendly</td>\n",
       "      <td>London</td>\n",
       "      <td>England</td>\n",
       "      <td>False</td>\n",
       "      <td>1875</td>\n",
       "      <td>3</td>\n",
       "      <td>5</td>\n",
       "      <td>1</td>\n",
       "      <td>0</td>\n",
       "      <td>4</td>\n",
       "      <td>nowin</td>\n",
       "    </tr>\n",
       "    <tr>\n",
       "      <th>4</th>\n",
       "      <td>1876-03-04</td>\n",
       "      <td>Scotland</td>\n",
       "      <td>England</td>\n",
       "      <td>3</td>\n",
       "      <td>0</td>\n",
       "      <td>Friendly</td>\n",
       "      <td>Glasgow</td>\n",
       "      <td>Scotland</td>\n",
       "      <td>False</td>\n",
       "      <td>1876</td>\n",
       "      <td>3</td>\n",
       "      <td>5</td>\n",
       "      <td>1</td>\n",
       "      <td>3</td>\n",
       "      <td>3</td>\n",
       "      <td>win</td>\n",
       "    </tr>\n",
       "  </tbody>\n",
       "</table>\n",
       "</div>"
      ],
      "text/plain": [
       "        date home_team away_team  home_score  away_score tournament     city  \\\n",
       "0 1872-11-30  Scotland   England           0           0   Friendly  Glasgow   \n",
       "1 1873-03-08   England  Scotland           4           2   Friendly   London   \n",
       "2 1874-03-07  Scotland   England           2           1   Friendly  Glasgow   \n",
       "3 1875-03-06   England  Scotland           2           2   Friendly   London   \n",
       "4 1876-03-04  Scotland   England           3           0   Friendly  Glasgow   \n",
       "\n",
       "    country  neutral  year  month  dayofweek  is_weekend  goal_diff  \\\n",
       "0  Scotland    False  1872     11          5           1          0   \n",
       "1   England    False  1873      3          5           1          2   \n",
       "2  Scotland    False  1874      3          5           1          1   \n",
       "3   England    False  1875      3          5           1          0   \n",
       "4  Scotland    False  1876      3          5           1          3   \n",
       "\n",
       "   total_score result  \n",
       "0            0  nowin  \n",
       "1            6    win  \n",
       "2            3    win  \n",
       "3            4  nowin  \n",
       "4            3    win  "
      ]
     },
     "execution_count": 4,
     "metadata": {},
     "output_type": "execute_result"
    }
   ],
   "source": [
    "results[\"year\"] = results[\"date\"].dt.year\n",
    "results[\"month\"] = results[\"date\"].dt.month\n",
    "results[\"dayofweek\"] = results[\"date\"].dt.dayofweek\n",
    "results[\"is_weekend\"] = results[\"dayofweek\"].apply(lambda x: 1 if x >= 5 else 0)\n",
    "\n",
    "results[\"goal_diff\"] = abs(results[\"home_score\"] - results[\"away_score\"])\n",
    "results[\"total_score\"] = results[\"home_score\"] + results[\"away_score\"]\n",
    "\n",
    "results[\"result\"] = results.apply(\n",
    "    lambda row: \"win\" if row[\"home_score\"] > row[\"away_score\"] else \"nowin\",\n",
    "    axis=1)\n",
    "\n",
    "results.head()"
   ]
  },
  {
   "cell_type": "markdown",
   "id": "dbf2a2ea",
   "metadata": {},
   "source": [
    "Veamos la distribución del target"
   ]
  },
  {
   "cell_type": "code",
   "execution_count": 5,
   "id": "0671cd4f",
   "metadata": {},
   "outputs": [
    {
     "data": {
      "image/png": "[encoded data removed]",
      "text/plain": [
       "<Figure size 1000x400 with 2 Axes>"
      ]
     },
     "metadata": {},
     "output_type": "display_data"
    }
   ],
   "source": [
    "fig, ax = plt.subplots(1, 2, figsize=(10, 4))\n",
    "\n",
    "sns.countplot(data=results, x=\"result\", order=[\"win\",\"nowin\"], ax=ax[0])\n",
    "ax[0].set_title(\"Distribución de resultados\")\n",
    "\n",
    "results_counts = results['result'].value_counts()\n",
    "ax[1].pie(results_counts, labels=results_counts.index, autopct='%1.2f%%', startangle=90, colors=sns.color_palette('pastel'))\n",
    "ax[1].set_title('Porcentaje de resutados')\n",
    "\n",
    "plt.show()"
   ]
  },
  {
   "cell_type": "markdown",
   "id": "b371db3e",
   "metadata": {},
   "source": [
    "📝 A partir de los graficos de los resultados, vemos un cierto desbalance en las clases. Esto podría afectar el rendimiento del modelo, haciendo que aprenda mas la clase mayoritaria (win)."
   ]
  },
  {
   "cell_type": "markdown",
   "id": "315f0f2a",
   "metadata": {},
   "source": [
    " ##### 2) Preprocesamiento y Preparación de Datos: Descripción de las transformaciones aplicadas a los datos para prepararlos para el modelado. Esto incluye, pero no se limita a: limpieza de datos, imputación de valores faltantes, codificación de variables categóricas, escalado de características, etc."
   ]
  },
  {
   "cell_type": "markdown",
   "id": "aa9441c5",
   "metadata": {},
   "source": [
    "📝 Como no hay muchas variables representativas que permitan hacecr predicciones, vamos a basarnos en el rating elo de los dos equipos y la diferencia entre ambos.\n",
    "\n",
    "Para más detalles sobre el funcionamiento del sistema Elo y su aplicación en el ranking de equipos: [World Football Elo Ratings](https://en.wikipedia.org/wiki/World_Football_Elo_Ratings).\n",
    "\n",
    "En este proyecto se asigna un valor inicial (1500) a cada equipo y se aplica un factor de ajuste (K = 20) para actualizar los ratings tras cada partido, considerando además una ventaja local de 80 puntos. De esta manera se puede usar la función \"compute_elo_features\". para obtener la diferencia de ratings entre el equipo local y el equipo visitante."
   ]
  },
  {
   "cell_type": "code",
   "execution_count": 6,
   "id": "c7040c79",
   "metadata": {},
   "outputs": [],
   "source": [
    "from collections import deque\n",
    "from math import log\n",
    "\n",
    "# Parámetros \n",
    "R0 = 1500.0\n",
    "K_base = 20.0\n",
    "HOME_ADV = 80.0           # ventaja local en puntos ELO\n",
    "half_life_years = 2.0     # half-life (2 o 3 años suelen andar muy bien)\n",
    "half_life_days  = 365.0 * half_life_years\n",
    "N_prev = 20               # ← cantidad de partidos “hacia atrás” por equipo\n",
    "\n",
    "# Pesos por torneo (ajustables). Default = 1.1 como pediste.\n",
    "weights = {\n",
    "    \"FIFA World Cup\": 1.6,\n",
    "    \"UEFA European Championship\": 1.4,\n",
    "    \"Copa América\": 1.4,\n",
    "    \"FIFA World Cup qualification\": 1.3,\n",
    "    \"UEFA Nations League\": 1.2,\n",
    "    \"Friendly\": 0.9,\n",
    "}\n",
    "def w_tournament(t):\n",
    "    return weights.get(t, 1.1)  # ← default sensato\n",
    "\n",
    "def elo_expect(Ra, Rb, home_adv):\n",
    "    return 1.0 / (1.0 + 10.0 ** ((Rb - (Ra + home_adv)) / 400.0))\n",
    "\n",
    "def compute_elo_features(df):\n",
    "    \"\"\"Calcula ELO de forma cronológica.\"\"\"\n",
    "    ratings, last_played, recent_counts = {}, {}, {}\n",
    "    snapshots = []\n",
    "\n",
    "    df = df.sort_values(\"date\").copy()\n",
    "    for _, row in df.iterrows():\n",
    "        d, ht, at = row[\"date\"], row[\"home_team\"], row[\"away_team\"]\n",
    "        hs, as_, tour, neut = row[\"home_score\"], row[\"away_score\"], row[\"tournament\"], bool(row[\"neutral\"])\n",
    "\n",
    "        for team in (ht, at):\n",
    "            if team not in ratings: ratings[team] = R0\n",
    "            if team not in recent_counts: recent_counts[team] = deque(maxlen=N_prev)\n",
    "            if team in last_played:\n",
    "                delta_days = (d - last_played[team]).days\n",
    "                if delta_days > 0:\n",
    "                    decay = 0.5 ** (delta_days / half_life_days)\n",
    "                    ratings[team] = R0 + (ratings[team] - R0) * decay\n",
    "\n",
    "        Rh_pre, Ra_pre = ratings[ht], ratings[at]  # ratings antes del partido\n",
    "        home_adv = 0 if neut else HOME_ADV\n",
    "        Eh = elo_expect(Rh_pre, Ra_pre, home_adv)\n",
    "        Ea = 1 - Eh\n",
    "\n",
    "        # Resultado\n",
    "        if hs > as_: Sh, Sa = 1, 0\n",
    "        elif hs < as_: Sh, Sa = 0, 1\n",
    "        else: Sh, Sa = 0.5, 0.5\n",
    "\n",
    "        margin = max(1, log(1 + abs(hs - as_), 2))\n",
    "        Kw_base = K_base * w_tournament(tour) * margin\n",
    "        cnt_h, cnt_a = len(recent_counts[ht]), len(recent_counts[at])\n",
    "        factor_h, factor_a = min(1, cnt_h / N_prev), min(1, cnt_a / N_prev)\n",
    "        Kw_h, Kw_a = Kw_base * (0.5 + 0.5 * factor_h), Kw_base * (0.5 + 0.5 * factor_a)\n",
    "\n",
    "        # Actualizamos después del partido\n",
    "        ratings[ht] = Rh_pre + Kw_h * (Sh - Eh)\n",
    "        ratings[at] = Ra_pre + Kw_a * (Sa - Ea)\n",
    "\n",
    "        recent_counts[ht].append(d)\n",
    "        recent_counts[at].append(d)\n",
    "        last_played[ht], last_played[at] = d, d\n",
    "\n",
    "        # Guardamos el snapshot usando los ratings previos al partido\n",
    "        snapshots.append({\n",
    "            \"date\": d,\n",
    "            \"home_team\": ht,\n",
    "            \"away_team\": at,\n",
    "            \"home_rating\": Rh_pre,\n",
    "            \"away_rating\": Ra_pre\n",
    "        })\n",
    "\n",
    "    elo_df = pd.DataFrame(snapshots)\n",
    "    elo_df[\"rating_diff\"] = elo_df[\"home_rating\"] - elo_df[\"away_rating\"]\n",
    "    return elo_df"
   ]
  },
  {
   "cell_type": "markdown",
   "id": "bdaaa0f7",
   "metadata": {},
   "source": [
    "📝 En base al analisis previo, se decide filtrar los datos a partir de 1920. Antes de esa fecha, había más diferencia entre los equipos (mayor diferencia de goles).\n",
    "\n",
    "Otros filtros a considerar que podrían introducir ruido en el modelo:\n",
    "* Cardinalidad de los torneos: existen demasiados torneos por lo cual podría ser conveniente centrarse en los mas conocidos.\n",
    "\n",
    "También creamos la variable target {1: \"win\", 0: \"nowin\"} y las variables\n",
    "Y creamos nuevas features a partir de la fecha.\n",
    "\n",
    "📝 Como el objetivo es predecir el resultado del partido, no podemos usar los registros como tal ya que estos son posteriores al partido. Por lo tanto, se crean la variable elo_df que representa la diferencia en el rendimiento de los equipos en los últimos partidos jugados, y de esta forma evitamos el *data leakage*."
   ]
  },
  {
   "cell_type": "code",
   "execution_count": 7,
   "id": "88d0ec5b",
   "metadata": {},
   "outputs": [
    {
     "name": "stdout",
     "output_type": "stream",
     "text": [
      "Original (48673, 16)\n",
      "Filtrado (48079, 16)\n"
     ]
    }
   ],
   "source": [
    "results_filtered = results[results[\"year\"] >= 1920].reset_index(drop=True)\n",
    "\n",
    "print(\"Original\", results.shape)\n",
    "print(\"Filtrado\", results_filtered.shape)\n",
    "\n",
    "# Nuevas features\n",
    "results_filtered[\"goal_diff\"] = results_filtered[\"home_score\"] - results_filtered[\"away_score\"]\n",
    "\n",
    "results_filtered[\"target\"] = np.where(results_filtered[\"goal_diff\"] > 0, 1, 0)\n",
    "\n",
    "results_filtered[\"year\"] = results_filtered[\"date\"].dt.year\n",
    "results_filtered[\"month\"] = results_filtered[\"date\"].dt.month\n",
    "results_filtered[\"dayofweek\"] = results_filtered[\"date\"].dt.dayofweek\n",
    "results_filtered[\"neutral\"] = results_filtered[\"neutral\"].astype(int)\n",
    "\n",
    "# Calcular ELO\n",
    "elo_df = compute_elo_features(results_filtered)\n",
    "results_with_rating = results_filtered.merge(\n",
    "    elo_df, on=[\"date\", \"home_team\", \"away_team\"], how=\"left\"\n",
    ")"
   ]
  },
  {
   "cell_type": "code",
   "execution_count": 8,
   "id": "089eedfa",
   "metadata": {},
   "outputs": [
    {
     "name": "stdout",
     "output_type": "stream",
     "text": [
      "Nulos en base al procesamiento:\n",
      " Series([], dtype: int64)\n"
     ]
    }
   ],
   "source": [
    "print(\"Nulos en base al procesamiento:\\n\", results_filtered.isna().sum()[results_filtered.isna().sum() > 0])"
   ]
  },
  {
   "cell_type": "markdown",
   "id": "033a80fb",
   "metadata": {},
   "source": [
    "No aparecen valores nulos después de los cálculos."
   ]
  },
  {
   "cell_type": "markdown",
   "id": "9e9392b5",
   "metadata": {},
   "source": [
    "Hacemos el split del dataset y codificamos las variables categoricas:\n",
    "- year, month y dayofweek ya se codificaron mediante cycling encoding pero no tuvieron peso en relación a las predicciones.\n",
    "- home_team, away_team, tournament se codifican con TargetEncoder por tener una cardinalidad alta"
   ]
  },
  {
   "cell_type": "markdown",
   "id": "a7c62ad3",
   "metadata": {},
   "source": [
    "Finalmente, se estandarizan las variables para que todas tengan la misma escala."
   ]
  },
  {
   "cell_type": "code",
   "execution_count": 9,
   "id": "e4fa3d69",
   "metadata": {},
   "outputs": [
    {
     "data": {
      "text/html": [
       "<div>\n",
       "<style scoped>\n",
       "    .dataframe tbody tr th:only-of-type {\n",
       "        vertical-align: middle;\n",
       "    }\n",
       "\n",
       "    .dataframe tbody tr th {\n",
       "        vertical-align: top;\n",
       "    }\n",
       "\n",
       "    .dataframe thead th {\n",
       "        text-align: right;\n",
       "    }\n",
       "</style>\n",
       "<table border=\"1\" class=\"dataframe\">\n",
       "  <thead>\n",
       "    <tr style=\"text-align: right;\">\n",
       "      <th></th>\n",
       "      <th>date</th>\n",
       "      <th>home_team</th>\n",
       "      <th>away_team</th>\n",
       "      <th>home_score</th>\n",
       "      <th>away_score</th>\n",
       "      <th>tournament</th>\n",
       "      <th>city</th>\n",
       "      <th>country</th>\n",
       "      <th>neutral</th>\n",
       "      <th>year</th>\n",
       "      <th>month</th>\n",
       "      <th>dayofweek</th>\n",
       "      <th>is_weekend</th>\n",
       "      <th>goal_diff</th>\n",
       "      <th>total_score</th>\n",
       "      <th>result</th>\n",
       "      <th>target</th>\n",
       "    </tr>\n",
       "  </thead>\n",
       "  <tbody>\n",
       "    <tr>\n",
       "      <th>48074</th>\n",
       "      <td>2025-10-14</td>\n",
       "      <td>Republic of Ireland</td>\n",
       "      <td>Armenia</td>\n",
       "      <td>1</td>\n",
       "      <td>0</td>\n",
       "      <td>FIFA World Cup qualification</td>\n",
       "      <td>Dublin</td>\n",
       "      <td>Republic of Ireland</td>\n",
       "      <td>0</td>\n",
       "      <td>2025</td>\n",
       "      <td>10</td>\n",
       "      <td>1</td>\n",
       "      <td>0</td>\n",
       "      <td>1</td>\n",
       "      <td>1</td>\n",
       "      <td>win</td>\n",
       "      <td>1</td>\n",
       "    </tr>\n",
       "    <tr>\n",
       "      <th>48075</th>\n",
       "      <td>2025-10-14</td>\n",
       "      <td>Estonia</td>\n",
       "      <td>Moldova</td>\n",
       "      <td>1</td>\n",
       "      <td>1</td>\n",
       "      <td>FIFA World Cup qualification</td>\n",
       "      <td>Tallinn</td>\n",
       "      <td>Estonia</td>\n",
       "      <td>0</td>\n",
       "      <td>2025</td>\n",
       "      <td>10</td>\n",
       "      <td>1</td>\n",
       "      <td>0</td>\n",
       "      <td>0</td>\n",
       "      <td>2</td>\n",
       "      <td>nowin</td>\n",
       "      <td>0</td>\n",
       "    </tr>\n",
       "    <tr>\n",
       "      <th>48076</th>\n",
       "      <td>2025-10-14</td>\n",
       "      <td>Italy</td>\n",
       "      <td>Israel</td>\n",
       "      <td>3</td>\n",
       "      <td>0</td>\n",
       "      <td>FIFA World Cup qualification</td>\n",
       "      <td>Udine</td>\n",
       "      <td>Italy</td>\n",
       "      <td>0</td>\n",
       "      <td>2025</td>\n",
       "      <td>10</td>\n",
       "      <td>1</td>\n",
       "      <td>0</td>\n",
       "      <td>3</td>\n",
       "      <td>3</td>\n",
       "      <td>win</td>\n",
       "      <td>1</td>\n",
       "    </tr>\n",
       "    <tr>\n",
       "      <th>48077</th>\n",
       "      <td>2025-10-14</td>\n",
       "      <td>Andorra</td>\n",
       "      <td>Serbia</td>\n",
       "      <td>1</td>\n",
       "      <td>3</td>\n",
       "      <td>FIFA World Cup qualification</td>\n",
       "      <td>Encamp</td>\n",
       "      <td>Andorra</td>\n",
       "      <td>0</td>\n",
       "      <td>2025</td>\n",
       "      <td>10</td>\n",
       "      <td>1</td>\n",
       "      <td>0</td>\n",
       "      <td>-2</td>\n",
       "      <td>4</td>\n",
       "      <td>nowin</td>\n",
       "      <td>0</td>\n",
       "    </tr>\n",
       "    <tr>\n",
       "      <th>48078</th>\n",
       "      <td>2025-10-14</td>\n",
       "      <td>Latvia</td>\n",
       "      <td>England</td>\n",
       "      <td>0</td>\n",
       "      <td>5</td>\n",
       "      <td>FIFA World Cup qualification</td>\n",
       "      <td>Riga</td>\n",
       "      <td>Latvia</td>\n",
       "      <td>0</td>\n",
       "      <td>2025</td>\n",
       "      <td>10</td>\n",
       "      <td>1</td>\n",
       "      <td>0</td>\n",
       "      <td>-5</td>\n",
       "      <td>5</td>\n",
       "      <td>nowin</td>\n",
       "      <td>0</td>\n",
       "    </tr>\n",
       "  </tbody>\n",
       "</table>\n",
       "</div>"
      ],
      "text/plain": [
       "            date            home_team away_team  home_score  away_score  \\\n",
       "48074 2025-10-14  Republic of Ireland   Armenia           1           0   \n",
       "48075 2025-10-14              Estonia   Moldova           1           1   \n",
       "48076 2025-10-14                Italy    Israel           3           0   \n",
       "48077 2025-10-14              Andorra    Serbia           1           3   \n",
       "48078 2025-10-14               Latvia   England           0           5   \n",
       "\n",
       "                         tournament     city              country  neutral  \\\n",
       "48074  FIFA World Cup qualification   Dublin  Republic of Ireland        0   \n",
       "48075  FIFA World Cup qualification  Tallinn              Estonia        0   \n",
       "48076  FIFA World Cup qualification    Udine                Italy        0   \n",
       "48077  FIFA World Cup qualification   Encamp              Andorra        0   \n",
       "48078  FIFA World Cup qualification     Riga               Latvia        0   \n",
       "\n",
       "       year  month  dayofweek  is_weekend  goal_diff  total_score result  \\\n",
       "48074  2025     10          1           0          1            1    win   \n",
       "48075  2025     10          1           0          0            2  nowin   \n",
       "48076  2025     10          1           0          3            3    win   \n",
       "48077  2025     10          1           0         -2            4  nowin   \n",
       "48078  2025     10          1           0         -5            5  nowin   \n",
       "\n",
       "       target  \n",
       "48074       1  \n",
       "48075       0  \n",
       "48076       1  \n",
       "48077       0  \n",
       "48078       0  "
      ]
     },
     "execution_count": 9,
     "metadata": {},
     "output_type": "execute_result"
    }
   ],
   "source": [
    "results_filtered.tail()"
   ]
  },
  {
   "cell_type": "code",
   "execution_count": 10,
   "id": "c46e8c25",
   "metadata": {},
   "outputs": [
    {
     "data": {
      "text/html": [
       "<div>\n",
       "<style scoped>\n",
       "    .dataframe tbody tr th:only-of-type {\n",
       "        vertical-align: middle;\n",
       "    }\n",
       "\n",
       "    .dataframe tbody tr th {\n",
       "        vertical-align: top;\n",
       "    }\n",
       "\n",
       "    .dataframe thead th {\n",
       "        text-align: right;\n",
       "    }\n",
       "</style>\n",
       "<table border=\"1\" class=\"dataframe\">\n",
       "  <thead>\n",
       "    <tr style=\"text-align: right;\">\n",
       "      <th></th>\n",
       "      <th>home_team</th>\n",
       "      <th>away_team</th>\n",
       "      <th>tournament</th>\n",
       "      <th>neutral</th>\n",
       "      <th>year</th>\n",
       "      <th>month</th>\n",
       "      <th>dayofweek</th>\n",
       "      <th>rating_diff</th>\n",
       "    </tr>\n",
       "  </thead>\n",
       "  <tbody>\n",
       "    <tr>\n",
       "      <th>48080</th>\n",
       "      <td>Republic of Ireland</td>\n",
       "      <td>Armenia</td>\n",
       "      <td>FIFA World Cup qualification</td>\n",
       "      <td>0</td>\n",
       "      <td>2025</td>\n",
       "      <td>10</td>\n",
       "      <td>1</td>\n",
       "      <td>83.842277</td>\n",
       "    </tr>\n",
       "    <tr>\n",
       "      <th>48081</th>\n",
       "      <td>Estonia</td>\n",
       "      <td>Moldova</td>\n",
       "      <td>FIFA World Cup qualification</td>\n",
       "      <td>0</td>\n",
       "      <td>2025</td>\n",
       "      <td>10</td>\n",
       "      <td>1</td>\n",
       "      <td>0.223943</td>\n",
       "    </tr>\n",
       "    <tr>\n",
       "      <th>48082</th>\n",
       "      <td>Italy</td>\n",
       "      <td>Israel</td>\n",
       "      <td>FIFA World Cup qualification</td>\n",
       "      <td>0</td>\n",
       "      <td>2025</td>\n",
       "      <td>10</td>\n",
       "      <td>1</td>\n",
       "      <td>90.894604</td>\n",
       "    </tr>\n",
       "    <tr>\n",
       "      <th>48083</th>\n",
       "      <td>Andorra</td>\n",
       "      <td>Serbia</td>\n",
       "      <td>FIFA World Cup qualification</td>\n",
       "      <td>0</td>\n",
       "      <td>2025</td>\n",
       "      <td>10</td>\n",
       "      <td>1</td>\n",
       "      <td>-174.619729</td>\n",
       "    </tr>\n",
       "    <tr>\n",
       "      <th>48084</th>\n",
       "      <td>Latvia</td>\n",
       "      <td>England</td>\n",
       "      <td>FIFA World Cup qualification</td>\n",
       "      <td>0</td>\n",
       "      <td>2025</td>\n",
       "      <td>10</td>\n",
       "      <td>1</td>\n",
       "      <td>-287.323500</td>\n",
       "    </tr>\n",
       "  </tbody>\n",
       "</table>\n",
       "</div>"
      ],
      "text/plain": [
       "                 home_team away_team                    tournament  neutral  \\\n",
       "48080  Republic of Ireland   Armenia  FIFA World Cup qualification        0   \n",
       "48081              Estonia   Moldova  FIFA World Cup qualification        0   \n",
       "48082                Italy    Israel  FIFA World Cup qualification        0   \n",
       "48083              Andorra    Serbia  FIFA World Cup qualification        0   \n",
       "48084               Latvia   England  FIFA World Cup qualification        0   \n",
       "\n",
       "       year  month  dayofweek  rating_diff  \n",
       "48080  2025     10          1    83.842277  \n",
       "48081  2025     10          1     0.223943  \n",
       "48082  2025     10          1    90.894604  \n",
       "48083  2025     10          1  -174.619729  \n",
       "48084  2025     10          1  -287.323500  "
      ]
     },
     "execution_count": 10,
     "metadata": {},
     "output_type": "execute_result"
    }
   ],
   "source": [
    "\n",
    "# Features\n",
    "feat_cat = [\"home_team\", \"away_team\", \"tournament\"]\n",
    "feat_num = [\"neutral\", \"year\", \"month\", \"dayofweek\", \"rating_diff\"]\n",
    "\n",
    "X = results_with_rating[feat_cat + feat_num]\n",
    "y = results_with_rating[\"target\"]\n",
    "\n",
    "X.tail()"
   ]
  },
  {
   "cell_type": "code",
   "execution_count": 11,
   "id": "c26f5365",
   "metadata": {},
   "outputs": [],
   "source": [
    "\n",
    "# Split\n",
    "X_tr, X_te, y_tr, y_te = train_test_split(X, y, test_size=0.20, random_state=42, stratify=y)\n",
    "\n",
    "# Codificacion y standarización\n",
    "pre = ColumnTransformer(\n",
    "    transformers=[\n",
    "        \n",
    "        (\"home_te\", ce.TargetEncoder(handle_missing=\"value\", handle_unknown=\"value\"), [\"home_team\"]),\n",
    "        (\"away_te\", ce.TargetEncoder(handle_missing=\"value\", handle_unknown=\"value\"), [\"away_team\"]),\n",
    "        (\"tour_te\", ce.TargetEncoder(handle_missing=\"value\", handle_unknown=\"value\"), [\"tournament\"]),\n",
    "        (\"num\", StandardScaler(), feat_num)\n",
    "    ],\n",
    "    remainder=\"drop\",\n",
    "    verbose_feature_names_out=False\n",
    ")\n"
   ]
  },
  {
   "cell_type": "markdown",
   "id": "68385a7d",
   "metadata": {},
   "source": [
    "##### 3) Modelado: Construcción y entrenamiento de los modelos de aprendizaje automático."
   ]
  },
  {
   "cell_type": "markdown",
   "id": "60bf3a8b",
   "metadata": {},
   "source": [
    "📝 Para modelar el problema, se van a utilizar diferentes algoritmos de clasificación para hacer un analisis comparativo y ver cual se adapta mejor al problema."
   ]
  },
  {
   "cell_type": "code",
   "execution_count": 12,
   "id": "9201858f",
   "metadata": {},
   "outputs": [
    {
     "name": "stdout",
     "output_type": "stream",
     "text": [
      "\n",
      "Top 10 importancias:\n",
      "away_team      4.017058\n",
      "home_team      3.953347\n",
      "tournament     2.800207\n",
      "rating_diff    0.533877\n",
      "neutral        0.184895\n",
      "year           0.081021\n",
      "dayofweek      0.011100\n",
      "month          0.003959\n",
      "dtype: float64\n"
     ]
    },
    {
     "data": {
      "image/png": "[encoded data removed]",
      "text/plain": [
       "<Figure size 600x400 with 1 Axes>"
      ]
     },
     "metadata": {},
     "output_type": "display_data"
    }
   ],
   "source": [
    "# Logistic Regression\n",
    "\n",
    "clf = Pipeline(steps=[\n",
    "    (\"pre\", pre),\n",
    "    (\"model\", LogisticRegression(\n",
    "        max_iter=1000,\n",
    "        class_weight=\"balanced\"\n",
    "    ))\n",
    "])\n",
    "\n",
    "# Fit\n",
    "clf.fit(X_tr, y_tr)\n",
    "\n",
    "# Predicciones\n",
    "y_pred_logreg = clf.predict(X_te)\n",
    "y_proba_logreg = clf.predict_proba(X_te)\n",
    "\n",
    "# Importancia de features\n",
    "try:\n",
    "    feature_names = clf.named_steps[\"pre\"].get_feature_names_out()\n",
    "except Exception:\n",
    "    feature_names = np.array([\"home_team_TE\",\"away_team_TE\",\"tournament_TE\"] + feat_num)\n",
    "\n",
    "importances = pd.Series(np.mean(np.abs(clf.named_steps[\"model\"].coef_), axis=0), index=feature_names).sort_values(ascending=False)\n",
    "\n",
    "print(\"\\nTop 10 importancias:\")\n",
    "print(importances.head(10))\n",
    "\n",
    "plt.figure(figsize=(6,4))\n",
    "importances.head(10).sort_values().plot(kind=\"barh\")\n",
    "plt.title(\"Importancia de variables\")\n",
    "plt.xlabel(\"Importance\")\n",
    "plt.tight_layout()\n",
    "plt.show()"
   ]
  },
  {
   "cell_type": "code",
   "execution_count": 13,
   "id": "63d32a6b",
   "metadata": {},
   "outputs": [],
   "source": [
    "# KNN\n",
    "\n",
    "clf = Pipeline(steps=[\n",
    "    (\"pre\", pre),\n",
    "    (\"model\", KNeighborsClassifier(\n",
    "        n_neighbors=21, metric=\"minkowski\", p=2\n",
    "    ))\n",
    "])\n",
    "\n",
    "# Fit\n",
    "clf.fit(X_tr, y_tr)\n",
    "\n",
    "# Predicciones\n",
    "y_pred_knn = clf.predict(X_te)\n",
    "y_proba_knn = clf.predict_proba(X_te)"
   ]
  },
  {
   "cell_type": "code",
   "execution_count": 14,
   "id": "2e3de887",
   "metadata": {},
   "outputs": [],
   "source": [
    "# SVM\n",
    "\n",
    "clf = Pipeline(steps=[\n",
    "    (\"pre\", pre),\n",
    "    (\"model\", SVC(C=5, kernel=\"rbf\", decision_function_shape='ovr', probability=True))\n",
    "])\n",
    "\n",
    "# Fit\n",
    "clf.fit(X_tr, y_tr)\n",
    "\n",
    "# Predicciones\n",
    "y_pred_svm = clf.predict(X_te)\n",
    "y_proba_svm = clf.predict_proba(X_te)"
   ]
  },
  {
   "cell_type": "code",
   "execution_count": 15,
   "id": "e7692777",
   "metadata": {},
   "outputs": [],
   "source": [
    "# Arbol de decisión\n",
    "\n",
    "clf = Pipeline(steps=[\n",
    "    (\"pre\", pre),\n",
    "    (\"model\", DecisionTreeClassifier(\n",
    "        criterion='entropy', \n",
    "        splitter='best', \n",
    "        max_depth=10,\n",
    "        min_samples_split=8,\n",
    "        min_samples_leaf=5,\n",
    "        class_weight='balanced',\n",
    "        random_state=42)\n",
    "    )\n",
    "])\n",
    "\n",
    "# Fit\n",
    "clf.fit(X_tr, y_tr)\n",
    "\n",
    "# Predicciones\n",
    "y_pred_dtc = clf.predict(X_te)\n",
    "y_proba_dtc = clf.predict_proba(X_te)"
   ]
  },
  {
   "cell_type": "code",
   "execution_count": 16,
   "id": "60b25f3a",
   "metadata": {},
   "outputs": [],
   "source": [
    "# Random Forest\n",
    "rfc = RandomForestClassifier(n_estimators=50, criterion='entropy', max_depth=15, \n",
    "                             min_samples_split=8, min_samples_leaf=3, \n",
    "                             class_weight='balanced', random_state=42)\n",
    "clf = Pipeline(steps=[\n",
    "    (\"pre\", pre),\n",
    "    (\"model\", RandomForestClassifier(n_estimators=50, criterion='entropy', max_depth=15, \n",
    "                             min_samples_split=8, min_samples_leaf=3, \n",
    "                             class_weight='balanced', random_state=42)\n",
    "    )\n",
    "])\n",
    "\n",
    "# Fit\n",
    "clf.fit(X_tr, y_tr)\n",
    "\n",
    "# Predicciones\n",
    "y_pred_rfc = clf.predict(X_te)\n",
    "y_proba_rfc = clf.predict_proba(X_te)"
   ]
  },
  {
   "cell_type": "markdown",
   "id": "370404a7",
   "metadata": {},
   "source": [
    "##### 4) Evaluación de Resultados: Análisis cuantitativo y cualitativo del rendimiento de los modelos utilizando métricas apropiadas. Se deben interpretar los resultados en el contexto del problema original."
   ]
  },
  {
   "cell_type": "code",
   "execution_count": 17,
   "id": "184a9dad",
   "metadata": {},
   "outputs": [],
   "source": [
    "# Funcion para imprimir resultados de clasificación\n",
    "def print_classification_results(y_test, y_pred, model_name):\n",
    "    print(f\"\\nResultados para {model_name}:\")\n",
    "\n",
    "    print(\"\\nAccuracy:\", accuracy_score(y_test, y_pred))\n",
    "    print(\"F1-score (macro):\", f1_score(y_test, y_pred, average='macro'))\n",
    "\n",
    "    print(\"\\nClassification Report:\\n\", \n",
    "          classification_report(y_test, y_pred, \n",
    "                              target_names=[\"nowin\", \"win\"],\n",
    "                              zero_division=0))\n",
    "    plot_normalized_confusion(y_test, y_pred)\n",
    "    \n",
    "def plot_normalized_confusion(y_true, y_pred, labels=[\"nowin\", \"win\"],\n",
    "                              title=\"Matriz de confusión\", figsize=(4.5, 4)):\n",
    "    # Matriz de confusión normalizada\n",
    "    cm = confusion_matrix(y_true, y_pred, labels=[0, 1], normalize=\"true\")\n",
    "    disp = ConfusionMatrixDisplay(confusion_matrix=cm, display_labels=labels)\n",
    "    plt.figure(figsize=figsize)\n",
    "    disp.plot(values_format=\".2f\", cmap=None, colorbar=False)\n",
    "    plt.title(title)\n",
    "    plt.show()"
   ]
  },
  {
   "cell_type": "markdown",
   "id": "f4d8c669",
   "metadata": {},
   "source": [
    "📝 En el contexto de este problema, queremos que el modelo prediga las clases del resultado por igual. Por lo que nos vamos a enfocar en la métrica de accuracy, pero como existe un desbalance en las clases, también se va a considerar la métrica de F1-score global y log loss."
   ]
  },
  {
   "cell_type": "code",
   "execution_count": 18,
   "id": "3a5977ee",
   "metadata": {},
   "outputs": [
    {
     "name": "stdout",
     "output_type": "stream",
     "text": [
      "\n",
      "Resultados para Regresión Logística:\n",
      "\n",
      "Accuracy: 0.6776541541021108\n",
      "F1-score (macro): 0.6776334883061081\n",
      "\n",
      "Classification Report:\n",
      "               precision    recall  f1-score   support\n",
      "\n",
      "       nowin       0.69      0.67      0.68      4904\n",
      "         win       0.67      0.68      0.68      4713\n",
      "\n",
      "    accuracy                           0.68      9617\n",
      "   macro avg       0.68      0.68      0.68      9617\n",
      "weighted avg       0.68      0.68      0.68      9617\n",
      "\n"
     ]
    },
    {
     "data": {
      "text/plain": [
       "<Figure size 450x400 with 0 Axes>"
      ]
     },
     "metadata": {},
     "output_type": "display_data"
    },
    {
     "data": {
      "image/png": "[encoded data removed]",
      "text/plain": [
       "<Figure size 640x480 with 1 Axes>"
      ]
     },
     "metadata": {},
     "output_type": "display_data"
    },
    {
     "name": "stdout",
     "output_type": "stream",
     "text": [
      "\n",
      "Resultados para KNN:\n",
      "\n",
      "Accuracy: 0.6492669231569096\n",
      "F1-score (macro): 0.6490591514514794\n",
      "\n",
      "Classification Report:\n",
      "               precision    recall  f1-score   support\n",
      "\n",
      "       nowin       0.65      0.66      0.66      4904\n",
      "         win       0.64      0.64      0.64      4713\n",
      "\n",
      "    accuracy                           0.65      9617\n",
      "   macro avg       0.65      0.65      0.65      9617\n",
      "weighted avg       0.65      0.65      0.65      9617\n",
      "\n"
     ]
    },
    {
     "data": {
      "text/plain": [
       "<Figure size 450x400 with 0 Axes>"
      ]
     },
     "metadata": {},
     "output_type": "display_data"
    },
    {
     "data": {
      "image/png": "[encoded data removed]",
      "text/plain": [
       "<Figure size 640x480 with 1 Axes>"
      ]
     },
     "metadata": {},
     "output_type": "display_data"
    },
    {
     "name": "stdout",
     "output_type": "stream",
     "text": [
      "\n",
      "Resultados para SVC:\n",
      "\n",
      "Accuracy: 0.6809815950920245\n",
      "F1-score (macro): 0.6806811332127788\n",
      "\n",
      "Classification Report:\n",
      "               precision    recall  f1-score   support\n",
      "\n",
      "       nowin       0.68      0.70      0.69      4904\n",
      "         win       0.68      0.66      0.67      4713\n",
      "\n",
      "    accuracy                           0.68      9617\n",
      "   macro avg       0.68      0.68      0.68      9617\n",
      "weighted avg       0.68      0.68      0.68      9617\n",
      "\n"
     ]
    },
    {
     "data": {
      "text/plain": [
       "<Figure size 450x400 with 0 Axes>"
      ]
     },
     "metadata": {},
     "output_type": "display_data"
    },
    {
     "data": {
      "image/png": "[encoded data removed]",
      "text/plain": [
       "<Figure size 640x480 with 1 Axes>"
      ]
     },
     "metadata": {},
     "output_type": "display_data"
    },
    {
     "name": "stdout",
     "output_type": "stream",
     "text": [
      "\n",
      "Resultados para Árbol de Decisión:\n",
      "\n",
      "Accuracy: 0.6697514817510658\n",
      "F1-score (macro): 0.6695334889610767\n",
      "\n",
      "Classification Report:\n",
      "               precision    recall  f1-score   support\n",
      "\n",
      "       nowin       0.67      0.68      0.68      4904\n",
      "         win       0.67      0.66      0.66      4713\n",
      "\n",
      "    accuracy                           0.67      9617\n",
      "   macro avg       0.67      0.67      0.67      9617\n",
      "weighted avg       0.67      0.67      0.67      9617\n",
      "\n"
     ]
    },
    {
     "data": {
      "text/plain": [
       "<Figure size 450x400 with 0 Axes>"
      ]
     },
     "metadata": {},
     "output_type": "display_data"
    },
    {
     "data": {
      "image/png": "[encoded data removed]",
      "text/plain": [
       "<Figure size 640x480 with 1 Axes>"
      ]
     },
     "metadata": {},
     "output_type": "display_data"
    },
    {
     "name": "stdout",
     "output_type": "stream",
     "text": [
      "\n",
      "Resultados para Random Forest:\n",
      "\n",
      "Accuracy: 0.677030258916502\n",
      "F1-score (macro): 0.6769647030018626\n",
      "\n",
      "Classification Report:\n",
      "               precision    recall  f1-score   support\n",
      "\n",
      "       nowin       0.69      0.68      0.68      4904\n",
      "         win       0.67      0.68      0.67      4713\n",
      "\n",
      "    accuracy                           0.68      9617\n",
      "   macro avg       0.68      0.68      0.68      9617\n",
      "weighted avg       0.68      0.68      0.68      9617\n",
      "\n"
     ]
    },
    {
     "data": {
      "text/plain": [
       "<Figure size 450x400 with 0 Axes>"
      ]
     },
     "metadata": {},
     "output_type": "display_data"
    },
    {
     "data": {
      "image/png": "[encoded data removed]",
      "text/plain": [
       "<Figure size 640x480 with 1 Axes>"
      ]
     },
     "metadata": {},
     "output_type": "display_data"
    }
   ],
   "source": [
    "print_classification_results(y_te, y_pred_logreg, \"Regresión Logística\")\n",
    "print_classification_results(y_te, y_pred_knn, \"KNN\")\n",
    "print_classification_results(y_te, y_pred_svm, \"SVC\")\n",
    "print_classification_results(y_te, y_pred_dtc, \"Árbol de Decisión\")\n",
    "print_classification_results(y_te, y_pred_rfc, \"Random Forest\")"
   ]
  },
  {
   "cell_type": "code",
   "execution_count": 19,
   "id": "061bdb4a",
   "metadata": {},
   "outputs": [
    {
     "name": "stdout",
     "output_type": "stream",
     "text": [
      "(win vs no-win) @thr=0.50\n",
      "Accuracy : 0.677\n",
      "Precision: 0.669\n",
      "Recall   : 0.676\n",
      "F1       : 0.672\n",
      "ROC-AUC  : 0.748\n",
      "\n",
      "Mejor umbral por F1\n",
      "thr          0.370\n",
      "accuracy     0.651\n",
      "precision    0.602\n",
      "recall       0.849\n",
      "f1           0.705\n",
      "Name: 7, dtype: float64\n"
     ]
    },
    {
     "data": {
      "image/png": "[encoded data removed]",
      "text/plain": [
       "<Figure size 500x400 with 1 Axes>"
      ]
     },
     "metadata": {},
     "output_type": "display_data"
    },
    {
     "data": {
      "image/png": "[encoded data removed]",
      "text/plain": [
       "<Figure size 500x400 with 1 Axes>"
      ]
     },
     "metadata": {},
     "output_type": "display_data"
    },
    {
     "name": "stdout",
     "output_type": "stream",
     "text": [
      "\n",
      "BINARIO @thr=0.40 (óptimo por F1)\n",
      "Accuracy : 0.662\n",
      "Precision: 0.617\n",
      "Recall   : 0.818\n",
      "F1       : 0.704\n"
     ]
    }
   ],
   "source": [
    "# clf es ahora Random Forest\n",
    "p_win = clf.predict_proba(X_te)[:, 1]  # prob de win\n",
    "y_pred05 = (p_win >= 0.5).astype(int)\n",
    "\n",
    "acc = accuracy_score(y_te, y_pred05)\n",
    "prec, rec, f1, _ = precision_recall_fscore_support(y_te, y_pred05, average=\"binary\", zero_division=0)\n",
    "auc = roc_auc_score(y_te, p_win)\n",
    "\n",
    "print(\"(win vs no-win) @thr=0.50\")\n",
    "print(f\"Accuracy : {acc:.3f}\")\n",
    "print(f\"Precision: {prec:.3f}\")\n",
    "print(f\"Recall   : {rec:.3f}\")\n",
    "print(f\"F1       : {f1:.3f}\")\n",
    "print(f\"ROC-AUC  : {auc:.3f}\")\n",
    "\n",
    "# Buscar mejor umbral por F1\n",
    "ths = np.linspace(0.3, 0.7, 41)  # barrido fino\n",
    "rows = []\n",
    "for t in ths:\n",
    "    y_hat = (p_win >= t).astype(int)\n",
    "    acc_t = accuracy_score(y_te, y_hat)\n",
    "    prec_t, rec_t, f1_t, _ = precision_recall_fscore_support(y_te, y_hat, average=\"binary\", zero_division=0)\n",
    "    rows.append({\"thr\": t, \"accuracy\": acc_t, \"precision\": prec_t, \"recall\": rec_t, \"f1\": f1_t})\n",
    "scan = pd.DataFrame(rows)\n",
    "best = scan.sort_values(\"f1\", ascending=False).iloc[0]\n",
    "print(\"\\nMejor umbral por F1\")\n",
    "print(best.round(3))\n",
    "\n",
    "# Curvas ROC y PR\n",
    "fpr, tpr, _ = roc_curve(y_te, p_win)\n",
    "pr, rc, _ = precision_recall_curve(y_te, p_win)\n",
    "\n",
    "plt.figure(figsize=(5,4))\n",
    "plt.plot(fpr, tpr)\n",
    "plt.plot([0,1],[0,1],'--', alpha=0.6)\n",
    "plt.xlabel(\"False Positive Rate\")\n",
    "plt.ylabel(\"True Positive Rate\")\n",
    "plt.title(f\"ROC curve (AUC={auc:.3f})\")\n",
    "plt.grid(True, linestyle=\"--\", alpha=0.4)\n",
    "plt.show()\n",
    "\n",
    "plt.figure(figsize=(5,4))\n",
    "plt.plot(rc, pr)\n",
    "plt.xlabel(\"Recall\")\n",
    "plt.ylabel(\"Precision\")\n",
    "plt.title(\"Precision-Recall curve (win=1)\")\n",
    "plt.grid(True, linestyle=\"--\", alpha=0.4)\n",
    "plt.show()\n",
    "\n",
    "thr_bin = 0.40   # binario\n",
    "\n",
    "# Predicción con umbral óptimo\n",
    "y_pred_opt = (p_win >= thr_bin).astype(int)\n",
    "acc_o = accuracy_score(y_te, y_pred_opt)\n",
    "prec_o, rec_o, f1_o, _ = precision_recall_fscore_support(y_te, y_pred_opt, average=\"binary\", zero_division=0)\n",
    "print(f\"\\nBINARIO @thr={thr_bin:.2f} (óptimo por F1)\")\n",
    "print(f\"Accuracy : {acc_o:.3f}\")\n",
    "print(f\"Precision: {prec_o:.3f}\")\n",
    "print(f\"Recall   : {rec_o:.3f}\")\n",
    "print(f\"F1       : {f1_o:.3f}\")"
   ]
  },
  {
   "cell_type": "markdown",
   "id": "7ce0ab2c",
   "metadata": {},
   "source": [
    "---\n",
    "\n",
    "📝 Se obtuvieron mejores resultados"
   ]
  }
 ],
 "metadata": {
  "kernelspec": {
   "display_name": "intro-ai",
   "language": "python",
   "name": "intro-ai"
  },
  "language_info": {
   "codemirror_mode": {
    "name": "ipython",
    "version": 3
   },
   "file_extension": ".py",
   "mimetype": "text/x-python",
   "name": "python",
   "nbconvert_exporter": "python",
   "pygments_lexer": "ipython3",
   "version": "3.11.13"
  }
 },
 "nbformat": 4,
 "nbformat_minor": 5
}
