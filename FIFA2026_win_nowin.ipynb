{
 "cells": [
  {
   "cell_type": "markdown",
   "id": "e2a0cb7e",
   "metadata": {},
   "source": [
    "# Aprendizaje de máquina - Proyecto final"
   ]
  },
  {
   "cell_type": "markdown",
   "id": "f94441c8",
   "metadata": {},
   "source": [
    "Para este proyecto se eligio el dataset \"International football results\", disponible en [Kaggle](https://www.kaggle.com/datasets/martj42/international-football-results-from-1872-to-2017), el cual contiene los siguientes datos:\n",
    "- date: Fecha del partido\n",
    "- home_team: nombre del equipo local\n",
    "- away_team: nombre del equipo visitante\n",
    "- home_score: goles del equipo local\n",
    "- away_score: goles del equipo visitante\n",
    "- tournament: nombre del torneo (amistoso, copa mundial, etc.)\n",
    "- city: ciudad donde se jugó el partido\n",
    "- country: país donde se jugó el partido\n",
    "- neutral: indica si el partido se jugó en un campo neutral\n",
    "\n",
    "Como **objetivo** se plantea predecir el resultado de los partidos (win, no win)."
   ]
  },
  {
   "cell_type": "code",
   "execution_count": 108,
   "id": "f4c9efd5",
   "metadata": {},
   "outputs": [],
   "source": [
    "import pandas as pd\n",
    "import numpy as np\n",
    "import matplotlib.pyplot as plt\n",
    "import seaborn as sns\n",
    "from sklearn.compose import ColumnTransformer\n",
    "from sklearn.pipeline import Pipeline\n",
    "import category_encoders as ce\n",
    "from sklearn.model_selection import train_test_split\n",
    "from sklearn.preprocessing import StandardScaler\n",
    "from sklearn.linear_model import LogisticRegression\n",
    "from sklearn.neighbors import KNeighborsClassifier\n",
    "from sklearn.svm import SVC\n",
    "from sklearn.tree import DecisionTreeClassifier\n",
    "from sklearn.ensemble import RandomForestClassifier\n",
    "from sklearn.metrics import accuracy_score, confusion_matrix, f1_score, ConfusionMatrixDisplay\n",
    "from sklearn.metrics import classification_report\n",
    "from sklearn.metrics import roc_curve, roc_auc_score, precision_recall_fscore_support, precision_recall_curve"
   ]
  },
  {
   "cell_type": "markdown",
   "id": "da0657ad",
   "metadata": {},
   "source": [
    "##### 1) EDA: Comprensión inicial del dataset, estadísticas descriptivas, identificación de variables, visualizaciones para entender distribuciones, correlaciones y posibles problemas como valores nulos o atípico.\n",
    "\n",
    "Dado que ya se hizo el EDA en el notebook [FIFA2026.ipynb](FIFA2026.ipynb), vamos a limitarnos a lo mínimo indispensable para el caso de win vs no win"
   ]
  },
  {
   "cell_type": "code",
   "execution_count": 109,
   "id": "7d0e95e8",
   "metadata": {},
   "outputs": [],
   "source": [
    "results = pd.read_csv(\"./archive/results.csv\")\n",
    "results[\"date\"] = pd.to_datetime(results[\"date\"])"
   ]
  },
  {
   "cell_type": "markdown",
   "id": "8c859f90",
   "metadata": {},
   "source": [
    "Vemos si el dataset contiene valores nulos y duplicados:"
   ]
  },
  {
   "cell_type": "markdown",
   "id": "f638ef77",
   "metadata": {},
   "source": [
    "Como el dataset original no tiene la variable a predecir, se procede a crearla junto a otras variables utiles para visualizaciones"
   ]
  },
  {
   "cell_type": "code",
   "execution_count": 110,
   "id": "443ffdeb",
   "metadata": {},
   "outputs": [
    {
     "data": {
      "text/html": [
       "<div>\n",
       "<style scoped>\n",
       "    .dataframe tbody tr th:only-of-type {\n",
       "        vertical-align: middle;\n",
       "    }\n",
       "\n",
       "    .dataframe tbody tr th {\n",
       "        vertical-align: top;\n",
       "    }\n",
       "\n",
       "    .dataframe thead th {\n",
       "        text-align: right;\n",
       "    }\n",
       "</style>\n",
       "<table border=\"1\" class=\"dataframe\">\n",
       "  <thead>\n",
       "    <tr style=\"text-align: right;\">\n",
       "      <th></th>\n",
       "      <th>date</th>\n",
       "      <th>home_team</th>\n",
       "      <th>away_team</th>\n",
       "      <th>home_score</th>\n",
       "      <th>away_score</th>\n",
       "      <th>tournament</th>\n",
       "      <th>city</th>\n",
       "      <th>country</th>\n",
       "      <th>neutral</th>\n",
       "      <th>year</th>\n",
       "      <th>month</th>\n",
       "      <th>dayofweek</th>\n",
       "      <th>is_weekend</th>\n",
       "      <th>goal_diff</th>\n",
       "      <th>total_score</th>\n",
       "      <th>result</th>\n",
       "    </tr>\n",
       "  </thead>\n",
       "  <tbody>\n",
       "    <tr>\n",
       "      <th>0</th>\n",
       "      <td>1872-11-30</td>\n",
       "      <td>Scotland</td>\n",
       "      <td>England</td>\n",
       "      <td>0</td>\n",
       "      <td>0</td>\n",
       "      <td>Friendly</td>\n",
       "      <td>Glasgow</td>\n",
       "      <td>Scotland</td>\n",
       "      <td>False</td>\n",
       "      <td>1872</td>\n",
       "      <td>11</td>\n",
       "      <td>5</td>\n",
       "      <td>1</td>\n",
       "      <td>0</td>\n",
       "      <td>0</td>\n",
       "      <td>nowin</td>\n",
       "    </tr>\n",
       "    <tr>\n",
       "      <th>1</th>\n",
       "      <td>1873-03-08</td>\n",
       "      <td>England</td>\n",
       "      <td>Scotland</td>\n",
       "      <td>4</td>\n",
       "      <td>2</td>\n",
       "      <td>Friendly</td>\n",
       "      <td>London</td>\n",
       "      <td>England</td>\n",
       "      <td>False</td>\n",
       "      <td>1873</td>\n",
       "      <td>3</td>\n",
       "      <td>5</td>\n",
       "      <td>1</td>\n",
       "      <td>2</td>\n",
       "      <td>6</td>\n",
       "      <td>win</td>\n",
       "    </tr>\n",
       "    <tr>\n",
       "      <th>2</th>\n",
       "      <td>1874-03-07</td>\n",
       "      <td>Scotland</td>\n",
       "      <td>England</td>\n",
       "      <td>2</td>\n",
       "      <td>1</td>\n",
       "      <td>Friendly</td>\n",
       "      <td>Glasgow</td>\n",
       "      <td>Scotland</td>\n",
       "      <td>False</td>\n",
       "      <td>1874</td>\n",
       "      <td>3</td>\n",
       "      <td>5</td>\n",
       "      <td>1</td>\n",
       "      <td>1</td>\n",
       "      <td>3</td>\n",
       "      <td>win</td>\n",
       "    </tr>\n",
       "    <tr>\n",
       "      <th>3</th>\n",
       "      <td>1875-03-06</td>\n",
       "      <td>England</td>\n",
       "      <td>Scotland</td>\n",
       "      <td>2</td>\n",
       "      <td>2</td>\n",
       "      <td>Friendly</td>\n",
       "      <td>London</td>\n",
       "      <td>England</td>\n",
       "      <td>False</td>\n",
       "      <td>1875</td>\n",
       "      <td>3</td>\n",
       "      <td>5</td>\n",
       "      <td>1</td>\n",
       "      <td>0</td>\n",
       "      <td>4</td>\n",
       "      <td>nowin</td>\n",
       "    </tr>\n",
       "    <tr>\n",
       "      <th>4</th>\n",
       "      <td>1876-03-04</td>\n",
       "      <td>Scotland</td>\n",
       "      <td>England</td>\n",
       "      <td>3</td>\n",
       "      <td>0</td>\n",
       "      <td>Friendly</td>\n",
       "      <td>Glasgow</td>\n",
       "      <td>Scotland</td>\n",
       "      <td>False</td>\n",
       "      <td>1876</td>\n",
       "      <td>3</td>\n",
       "      <td>5</td>\n",
       "      <td>1</td>\n",
       "      <td>3</td>\n",
       "      <td>3</td>\n",
       "      <td>win</td>\n",
       "    </tr>\n",
       "  </tbody>\n",
       "</table>\n",
       "</div>"
      ],
      "text/plain": [
       "        date home_team away_team  home_score  away_score tournament     city  \\\n",
       "0 1872-11-30  Scotland   England           0           0   Friendly  Glasgow   \n",
       "1 1873-03-08   England  Scotland           4           2   Friendly   London   \n",
       "2 1874-03-07  Scotland   England           2           1   Friendly  Glasgow   \n",
       "3 1875-03-06   England  Scotland           2           2   Friendly   London   \n",
       "4 1876-03-04  Scotland   England           3           0   Friendly  Glasgow   \n",
       "\n",
       "    country  neutral  year  month  dayofweek  is_weekend  goal_diff  \\\n",
       "0  Scotland    False  1872     11          5           1          0   \n",
       "1   England    False  1873      3          5           1          2   \n",
       "2  Scotland    False  1874      3          5           1          1   \n",
       "3   England    False  1875      3          5           1          0   \n",
       "4  Scotland    False  1876      3          5           1          3   \n",
       "\n",
       "   total_score result  \n",
       "0            0  nowin  \n",
       "1            6    win  \n",
       "2            3    win  \n",
       "3            4  nowin  \n",
       "4            3    win  "
      ]
     },
     "execution_count": 110,
     "metadata": {},
     "output_type": "execute_result"
    }
   ],
   "source": [
    "results[\"year\"] = results[\"date\"].dt.year\n",
    "results[\"month\"] = results[\"date\"].dt.month\n",
    "results[\"dayofweek\"] = results[\"date\"].dt.dayofweek\n",
    "results[\"is_weekend\"] = results[\"dayofweek\"].apply(lambda x: 1 if x >= 5 else 0)\n",
    "\n",
    "results[\"goal_diff\"] = abs(results[\"home_score\"] - results[\"away_score\"])\n",
    "results[\"total_score\"] = results[\"home_score\"] + results[\"away_score\"]\n",
    "\n",
    "results[\"result\"] = results.apply(\n",
    "    lambda row: \"win\" if row[\"home_score\"] > row[\"away_score\"] else \"nowin\",\n",
    "    axis=1)\n",
    "\n",
    "results.head()"
   ]
  },
  {
   "cell_type": "markdown",
   "id": "dbf2a2ea",
   "metadata": {},
   "source": [
    "Veamos la distribución del target"
   ]
  },
  {
   "cell_type": "code",
   "execution_count": 111,
   "id": "0671cd4f",
   "metadata": {},
   "outputs": [
    {
     "data": {
      "image/png": "[encoded data removed]",
      "text/plain": [
       "<Figure size 1000x400 with 2 Axes>"
      ]
     },
     "metadata": {},
     "output_type": "display_data"
    }
   ],
   "source": [
    "fig, ax = plt.subplots(1, 2, figsize=(10, 4))\n",
    "\n",
    "sns.countplot(data=results, x=\"result\", order=[\"win\",\"nowin\"], ax=ax[0])\n",
    "ax[0].set_title(\"Distribución de resultados\")\n",
    "\n",
    "results_counts = results['result'].value_counts()\n",
    "ax[1].pie(results_counts, labels=results_counts.index, autopct='%1.2f%%', startangle=90, colors=sns.color_palette('pastel'))\n",
    "ax[1].set_title('Porcentaje de resutados')\n",
    "\n",
    "plt.show()"
   ]
  },
  {
   "cell_type": "markdown",
   "id": "b371db3e",
   "metadata": {},
   "source": [
    "📝 A partir de los graficos de los resultados, vemos un cierto desbalance en las clases. Esto podría afectar el rendimiento del modelo, haciendo que aprenda mas la clase mayoritaria (win)."
   ]
  },
  {
   "cell_type": "markdown",
   "id": "315f0f2a",
   "metadata": {},
   "source": [
    " ##### 2) Preprocesamiento y Preparación de Datos: Descripción de las transformaciones aplicadas a los datos para prepararlos para el modelado. Esto incluye, pero no se limita a: limpieza de datos, imputación de valores faltantes, codificación de variables categóricas, escalado de características, etc."
   ]
  },
  {
   "cell_type": "markdown",
   "id": "aa9441c5",
   "metadata": {},
   "source": [
    "📝 Como no hay muchas variables representativas que permitan hacecr predicciones, vamos a basarnos en el rating elo de los dos equipos y la diferencia entre ambos.\n",
    "\n",
    "Para más detalles sobre el funcionamiento del sistema Elo y su aplicación en el ranking de equipos: [World Football Elo Ratings](https://en.wikipedia.org/wiki/World_Football_Elo_Ratings).\n",
    "\n",
    "En este proyecto se asigna un valor inicial (1500) a cada equipo y se aplica un factor de ajuste (K = 20) para actualizar los ratings tras cada partido, considerando además una ventaja local de 80 puntos. De esta manera se puede usar la función \"compute_elo_features\". para obtener la diferencia de ratings entre el equipo local y el equipo visitante."
   ]
  },
  {
   "cell_type": "code",
   "execution_count": 112,
   "id": "c7040c79",
   "metadata": {},
   "outputs": [],
   "source": [
    "from collections import deque\n",
    "from math import log\n",
    "\n",
    "# Parámetros \n",
    "R0 = 1500.0\n",
    "K_base = 20.0\n",
    "HOME_ADV = 80.0           # ventaja local en puntos ELO\n",
    "half_life_years = 2.0     # half-life (2 o 3 años suelen andar muy bien)\n",
    "half_life_days  = 365.0 * half_life_years\n",
    "N_prev = 20               # ← cantidad de partidos “hacia atrás” por equipo\n",
    "\n",
    "# Pesos por torneo (ajustables). Default = 1.1 como pediste.\n",
    "weights = {\n",
    "    \"FIFA World Cup\": 1.6,\n",
    "    \"UEFA European Championship\": 1.4,\n",
    "    \"Copa América\": 1.4,\n",
    "    \"FIFA World Cup qualification\": 1.3,\n",
    "    \"UEFA Nations League\": 1.2,\n",
    "    \"Friendly\": 0.9,\n",
    "}\n",
    "def w_tournament(t):\n",
    "    return weights.get(t, 1.1)  # ← default sensato\n",
    "\n",
    "def elo_expect(Ra, Rb, home_adv):\n",
    "    return 1.0 / (1.0 + 10.0 ** ((Rb - (Ra + home_adv)) / 400.0))\n",
    "\n",
    "def compute_elo_features(df):\n",
    "    \"\"\"Calcula ELO de forma cronológica.\"\"\"\n",
    "    ratings, last_played, recent_counts = {}, {}, {}\n",
    "    snapshots = []\n",
    "\n",
    "    df = df.sort_values(\"date\").copy()\n",
    "    for _, row in df.iterrows():\n",
    "        d, ht, at = row[\"date\"], row[\"home_team\"], row[\"away_team\"]\n",
    "        hs, as_, tour, neut = row[\"home_score\"], row[\"away_score\"], row[\"tournament\"], bool(row[\"neutral\"])\n",
    "\n",
    "        for team in (ht, at):\n",
    "            if team not in ratings: ratings[team] = R0\n",
    "            if team not in recent_counts: recent_counts[team] = deque(maxlen=N_prev)\n",
    "            if team in last_played:\n",
    "                delta_days = (d - last_played[team]).days\n",
    "                if delta_days > 0:\n",
    "                    decay = 0.5 ** (delta_days / half_life_days)\n",
    "                    ratings[team] = R0 + (ratings[team] - R0) * decay\n",
    "\n",
    "        Rh_pre, Ra_pre = ratings[ht], ratings[at]  # ratings antes del partido\n",
    "        home_adv = 0 if neut else HOME_ADV\n",
    "        Eh = elo_expect(Rh_pre, Ra_pre, home_adv)\n",
    "        Ea = 1 - Eh\n",
    "\n",
    "        # Resultado\n",
    "        if hs > as_: Sh, Sa = 1, 0\n",
    "        elif hs < as_: Sh, Sa = 0, 1\n",
    "        else: Sh, Sa = 0.5, 0.5\n",
    "\n",
    "        margin = max(1, log(1 + abs(hs - as_), 2))\n",
    "        Kw_base = K_base * w_tournament(tour) * margin\n",
    "        cnt_h, cnt_a = len(recent_counts[ht]), len(recent_counts[at])\n",
    "        factor_h, factor_a = min(1, cnt_h / N_prev), min(1, cnt_a / N_prev)\n",
    "        Kw_h, Kw_a = Kw_base * (0.5 + 0.5 * factor_h), Kw_base * (0.5 + 0.5 * factor_a)\n",
    "\n",
    "        # Actualizamos después del partido\n",
    "        ratings[ht] = Rh_pre + Kw_h * (Sh - Eh)\n",
    "        ratings[at] = Ra_pre + Kw_a * (Sa - Ea)\n",
    "\n",
    "        recent_counts[ht].append(d)\n",
    "        recent_counts[at].append(d)\n",
    "        last_played[ht], last_played[at] = d, d\n",
    "\n",
    "        # Guardamos el snapshot usando los ratings previos al partido\n",
    "        snapshots.append({\n",
    "            \"date\": d,\n",
    "            \"home_team\": ht,\n",
    "            \"away_team\": at,\n",
    "            \"home_rating\": Rh_pre,\n",
    "            \"away_rating\": Ra_pre\n",
    "        })\n",
    "\n",
    "    elo_df = pd.DataFrame(snapshots)\n",
    "    elo_df[\"rating_diff\"] = elo_df[\"home_rating\"] - elo_df[\"away_rating\"]\n",
    "    return elo_df"
   ]
  },
  {
   "cell_type": "markdown",
   "id": "bdaaa0f7",
   "metadata": {},
   "source": [
    "📝 En base al analisis previo, se decide filtrar los datos a partir de 1920. Antes de esa fecha, había más diferencia entre los equipos (mayor diferencia de goles).\n",
    "\n",
    "Otros filtros a considerar que podrían introducir ruido en el modelo:\n",
    "* Cardinalidad de los torneos: existen demasiados torneos por lo cual podría ser conveniente centrarse en los mas conocidos.\n",
    "\n",
    "También creamos la variable target {1: \"win\", 0: \"nowin\"} y las variables\n",
    "Y creamos nuevas features a partir de la fecha.\n",
    "\n",
    "📝 Como el objetivo es predecir el resultado del partido, no podemos usar los registros como tal ya que estos son posteriores al partido. Por lo tanto, se crean la variable elo_df que representa la diferencia en el rendimiento de los equipos en los últimos partidos jugados, y de esta forma evitamos el *data leakage*."
   ]
  },
  {
   "cell_type": "code",
   "execution_count": 113,
   "id": "88d0ec5b",
   "metadata": {},
   "outputs": [
    {
     "name": "stdout",
     "output_type": "stream",
     "text": [
      "Original (48532, 16)\n",
      "Filtrado (47938, 16)\n"
     ]
    }
   ],
   "source": [
    "results_filtered = results[results[\"year\"] >= 1920].reset_index(drop=True)\n",
    "\n",
    "print(\"Original\", results.shape)\n",
    "print(\"Filtrado\", results_filtered.shape)\n",
    "\n",
    "# Nuevas features\n",
    "results_filtered[\"goal_diff\"] = results_filtered[\"home_score\"] - results_filtered[\"away_score\"]\n",
    "\n",
    "results_filtered[\"target\"] = np.where(results_filtered[\"goal_diff\"] > 0, 1, 0)\n",
    "\n",
    "results_filtered[\"year\"] = results_filtered[\"date\"].dt.year\n",
    "results_filtered[\"month\"] = results_filtered[\"date\"].dt.month\n",
    "results_filtered[\"dayofweek\"] = results_filtered[\"date\"].dt.dayofweek\n",
    "results_filtered[\"neutral\"] = results_filtered[\"neutral\"].astype(int)\n",
    "\n",
    "# Calcular ELO\n",
    "elo_df = compute_elo_features(results_filtered)\n",
    "results_with_rating = results_filtered.merge(\n",
    "    elo_df, on=[\"date\", \"home_team\", \"away_team\"], how=\"left\"\n",
    ")"
   ]
  },
  {
   "cell_type": "code",
   "execution_count": 114,
   "id": "089eedfa",
   "metadata": {},
   "outputs": [
    {
     "name": "stdout",
     "output_type": "stream",
     "text": [
      "Nulos en base al procesamiento:\n",
      " Series([], dtype: int64)\n"
     ]
    }
   ],
   "source": [
    "print(\"Nulos en base al procesamiento:\\n\", results_filtered.isna().sum()[results_filtered.isna().sum() > 0])"
   ]
  },
  {
   "cell_type": "markdown",
   "id": "033a80fb",
   "metadata": {},
   "source": [
    "No aparecen valores nulos después de los cálculos."
   ]
  },
  {
   "cell_type": "markdown",
   "id": "9e9392b5",
   "metadata": {},
   "source": [
    "Hacemos el split del dataset y codificamos las variables categoricas:\n",
    "- year, month y dayofweek ya se codificaron mediante cycling encoding pero no tuvieron peso en relación a las predicciones.\n",
    "- home_team, away_team, tournament se codifican con TargetEncoder por tener una cardinalidad alta"
   ]
  },
  {
   "cell_type": "markdown",
   "id": "a7c62ad3",
   "metadata": {},
   "source": [
    "Finalmente, se estandarizan las variables para que todas tengan la misma escala."
   ]
  },
  {
   "cell_type": "code",
   "execution_count": 115,
   "id": "e4fa3d69",
   "metadata": {},
   "outputs": [
    {
     "data": {
      "text/html": [
       "<div>\n",
       "<style scoped>\n",
       "    .dataframe tbody tr th:only-of-type {\n",
       "        vertical-align: middle;\n",
       "    }\n",
       "\n",
       "    .dataframe tbody tr th {\n",
       "        vertical-align: top;\n",
       "    }\n",
       "\n",
       "    .dataframe thead th {\n",
       "        text-align: right;\n",
       "    }\n",
       "</style>\n",
       "<table border=\"1\" class=\"dataframe\">\n",
       "  <thead>\n",
       "    <tr style=\"text-align: right;\">\n",
       "      <th></th>\n",
       "      <th>date</th>\n",
       "      <th>home_team</th>\n",
       "      <th>away_team</th>\n",
       "      <th>home_score</th>\n",
       "      <th>away_score</th>\n",
       "      <th>tournament</th>\n",
       "      <th>city</th>\n",
       "      <th>country</th>\n",
       "      <th>neutral</th>\n",
       "      <th>year</th>\n",
       "      <th>month</th>\n",
       "      <th>dayofweek</th>\n",
       "      <th>is_weekend</th>\n",
       "      <th>goal_diff</th>\n",
       "      <th>total_score</th>\n",
       "      <th>result</th>\n",
       "      <th>target</th>\n",
       "    </tr>\n",
       "  </thead>\n",
       "  <tbody>\n",
       "    <tr>\n",
       "      <th>47933</th>\n",
       "      <td>2025-09-09</td>\n",
       "      <td>Bosnia and Herzegovina</td>\n",
       "      <td>Austria</td>\n",
       "      <td>1</td>\n",
       "      <td>2</td>\n",
       "      <td>FIFA World Cup qualification</td>\n",
       "      <td>Zenica</td>\n",
       "      <td>Bosnia and Herzegovina</td>\n",
       "      <td>0</td>\n",
       "      <td>2025</td>\n",
       "      <td>9</td>\n",
       "      <td>1</td>\n",
       "      <td>0</td>\n",
       "      <td>-1</td>\n",
       "      <td>3</td>\n",
       "      <td>nowin</td>\n",
       "      <td>0</td>\n",
       "    </tr>\n",
       "    <tr>\n",
       "      <th>47934</th>\n",
       "      <td>2025-09-09</td>\n",
       "      <td>Cyprus</td>\n",
       "      <td>Romania</td>\n",
       "      <td>2</td>\n",
       "      <td>2</td>\n",
       "      <td>FIFA World Cup qualification</td>\n",
       "      <td>Nicosia</td>\n",
       "      <td>Cyprus</td>\n",
       "      <td>0</td>\n",
       "      <td>2025</td>\n",
       "      <td>9</td>\n",
       "      <td>1</td>\n",
       "      <td>0</td>\n",
       "      <td>0</td>\n",
       "      <td>4</td>\n",
       "      <td>nowin</td>\n",
       "      <td>0</td>\n",
       "    </tr>\n",
       "    <tr>\n",
       "      <th>47935</th>\n",
       "      <td>2025-09-09</td>\n",
       "      <td>Norway</td>\n",
       "      <td>Moldova</td>\n",
       "      <td>11</td>\n",
       "      <td>1</td>\n",
       "      <td>FIFA World Cup qualification</td>\n",
       "      <td>Oslo</td>\n",
       "      <td>Norway</td>\n",
       "      <td>0</td>\n",
       "      <td>2025</td>\n",
       "      <td>9</td>\n",
       "      <td>1</td>\n",
       "      <td>0</td>\n",
       "      <td>10</td>\n",
       "      <td>12</td>\n",
       "      <td>win</td>\n",
       "      <td>1</td>\n",
       "    </tr>\n",
       "    <tr>\n",
       "      <th>47936</th>\n",
       "      <td>2025-09-09</td>\n",
       "      <td>Albania</td>\n",
       "      <td>Latvia</td>\n",
       "      <td>1</td>\n",
       "      <td>0</td>\n",
       "      <td>FIFA World Cup qualification</td>\n",
       "      <td>Tirana</td>\n",
       "      <td>Albania</td>\n",
       "      <td>0</td>\n",
       "      <td>2025</td>\n",
       "      <td>9</td>\n",
       "      <td>1</td>\n",
       "      <td>0</td>\n",
       "      <td>1</td>\n",
       "      <td>1</td>\n",
       "      <td>win</td>\n",
       "      <td>1</td>\n",
       "    </tr>\n",
       "    <tr>\n",
       "      <th>47937</th>\n",
       "      <td>2025-09-09</td>\n",
       "      <td>Serbia</td>\n",
       "      <td>England</td>\n",
       "      <td>0</td>\n",
       "      <td>5</td>\n",
       "      <td>FIFA World Cup qualification</td>\n",
       "      <td>Belgrade</td>\n",
       "      <td>Serbia</td>\n",
       "      <td>0</td>\n",
       "      <td>2025</td>\n",
       "      <td>9</td>\n",
       "      <td>1</td>\n",
       "      <td>0</td>\n",
       "      <td>-5</td>\n",
       "      <td>5</td>\n",
       "      <td>nowin</td>\n",
       "      <td>0</td>\n",
       "    </tr>\n",
       "  </tbody>\n",
       "</table>\n",
       "</div>"
      ],
      "text/plain": [
       "            date               home_team away_team  home_score  away_score  \\\n",
       "47933 2025-09-09  Bosnia and Herzegovina   Austria           1           2   \n",
       "47934 2025-09-09                  Cyprus   Romania           2           2   \n",
       "47935 2025-09-09                  Norway   Moldova          11           1   \n",
       "47936 2025-09-09                 Albania    Latvia           1           0   \n",
       "47937 2025-09-09                  Serbia   England           0           5   \n",
       "\n",
       "                         tournament      city                 country  \\\n",
       "47933  FIFA World Cup qualification    Zenica  Bosnia and Herzegovina   \n",
       "47934  FIFA World Cup qualification   Nicosia                  Cyprus   \n",
       "47935  FIFA World Cup qualification      Oslo                  Norway   \n",
       "47936  FIFA World Cup qualification    Tirana                 Albania   \n",
       "47937  FIFA World Cup qualification  Belgrade                  Serbia   \n",
       "\n",
       "       neutral  year  month  dayofweek  is_weekend  goal_diff  total_score  \\\n",
       "47933        0  2025      9          1           0         -1            3   \n",
       "47934        0  2025      9          1           0          0            4   \n",
       "47935        0  2025      9          1           0         10           12   \n",
       "47936        0  2025      9          1           0          1            1   \n",
       "47937        0  2025      9          1           0         -5            5   \n",
       "\n",
       "      result  target  \n",
       "47933  nowin       0  \n",
       "47934  nowin       0  \n",
       "47935    win       1  \n",
       "47936    win       1  \n",
       "47937  nowin       0  "
      ]
     },
     "execution_count": 115,
     "metadata": {},
     "output_type": "execute_result"
    }
   ],
   "source": [
    "results_filtered.tail()"
   ]
  },
  {
   "cell_type": "code",
   "execution_count": 116,
   "id": "c46e8c25",
   "metadata": {},
   "outputs": [
    {
     "data": {
      "text/html": [
       "<div>\n",
       "<style scoped>\n",
       "    .dataframe tbody tr th:only-of-type {\n",
       "        vertical-align: middle;\n",
       "    }\n",
       "\n",
       "    .dataframe tbody tr th {\n",
       "        vertical-align: top;\n",
       "    }\n",
       "\n",
       "    .dataframe thead th {\n",
       "        text-align: right;\n",
       "    }\n",
       "</style>\n",
       "<table border=\"1\" class=\"dataframe\">\n",
       "  <thead>\n",
       "    <tr style=\"text-align: right;\">\n",
       "      <th></th>\n",
       "      <th>home_team</th>\n",
       "      <th>away_team</th>\n",
       "      <th>tournament</th>\n",
       "      <th>neutral</th>\n",
       "      <th>year</th>\n",
       "      <th>month</th>\n",
       "      <th>dayofweek</th>\n",
       "      <th>rating_diff</th>\n",
       "    </tr>\n",
       "  </thead>\n",
       "  <tbody>\n",
       "    <tr>\n",
       "      <th>47939</th>\n",
       "      <td>Bosnia and Herzegovina</td>\n",
       "      <td>Austria</td>\n",
       "      <td>FIFA World Cup qualification</td>\n",
       "      <td>0</td>\n",
       "      <td>2025</td>\n",
       "      <td>9</td>\n",
       "      <td>1</td>\n",
       "      <td>-124.310410</td>\n",
       "    </tr>\n",
       "    <tr>\n",
       "      <th>47940</th>\n",
       "      <td>Cyprus</td>\n",
       "      <td>Romania</td>\n",
       "      <td>FIFA World Cup qualification</td>\n",
       "      <td>0</td>\n",
       "      <td>2025</td>\n",
       "      <td>9</td>\n",
       "      <td>1</td>\n",
       "      <td>-148.277225</td>\n",
       "    </tr>\n",
       "    <tr>\n",
       "      <th>47941</th>\n",
       "      <td>Norway</td>\n",
       "      <td>Moldova</td>\n",
       "      <td>FIFA World Cup qualification</td>\n",
       "      <td>0</td>\n",
       "      <td>2025</td>\n",
       "      <td>9</td>\n",
       "      <td>1</td>\n",
       "      <td>252.619195</td>\n",
       "    </tr>\n",
       "    <tr>\n",
       "      <th>47942</th>\n",
       "      <td>Albania</td>\n",
       "      <td>Latvia</td>\n",
       "      <td>FIFA World Cup qualification</td>\n",
       "      <td>0</td>\n",
       "      <td>2025</td>\n",
       "      <td>9</td>\n",
       "      <td>1</td>\n",
       "      <td>108.382285</td>\n",
       "    </tr>\n",
       "    <tr>\n",
       "      <th>47943</th>\n",
       "      <td>Serbia</td>\n",
       "      <td>England</td>\n",
       "      <td>FIFA World Cup qualification</td>\n",
       "      <td>0</td>\n",
       "      <td>2025</td>\n",
       "      <td>9</td>\n",
       "      <td>1</td>\n",
       "      <td>-56.075702</td>\n",
       "    </tr>\n",
       "  </tbody>\n",
       "</table>\n",
       "</div>"
      ],
      "text/plain": [
       "                    home_team away_team                    tournament  \\\n",
       "47939  Bosnia and Herzegovina   Austria  FIFA World Cup qualification   \n",
       "47940                  Cyprus   Romania  FIFA World Cup qualification   \n",
       "47941                  Norway   Moldova  FIFA World Cup qualification   \n",
       "47942                 Albania    Latvia  FIFA World Cup qualification   \n",
       "47943                  Serbia   England  FIFA World Cup qualification   \n",
       "\n",
       "       neutral  year  month  dayofweek  rating_diff  \n",
       "47939        0  2025      9          1  -124.310410  \n",
       "47940        0  2025      9          1  -148.277225  \n",
       "47941        0  2025      9          1   252.619195  \n",
       "47942        0  2025      9          1   108.382285  \n",
       "47943        0  2025      9          1   -56.075702  "
      ]
     },
     "execution_count": 116,
     "metadata": {},
     "output_type": "execute_result"
    }
   ],
   "source": [
    "\n",
    "# Features\n",
    "feat_cat = [\"home_team\", \"away_team\", \"tournament\"]\n",
    "feat_num = [\"neutral\", \"year\", \"month\", \"dayofweek\", \"rating_diff\"]\n",
    "\n",
    "X = results_with_rating[feat_cat + feat_num]\n",
    "y = results_with_rating[\"target\"]\n",
    "\n",
    "X.tail()"
   ]
  },
  {
   "cell_type": "code",
   "execution_count": 117,
   "id": "c26f5365",
   "metadata": {},
   "outputs": [],
   "source": [
    "\n",
    "# Split\n",
    "X_tr, X_te, y_tr, y_te = train_test_split(X, y, test_size=0.20, random_state=42, stratify=y)\n",
    "\n",
    "# Codificacion y standarización\n",
    "pre = ColumnTransformer(\n",
    "    transformers=[\n",
    "        \n",
    "        (\"home_te\", ce.TargetEncoder(handle_missing=\"value\", handle_unknown=\"value\"), [\"home_team\"]),\n",
    "        (\"away_te\", ce.TargetEncoder(handle_missing=\"value\", handle_unknown=\"value\"), [\"away_team\"]),\n",
    "        (\"tour_te\", ce.TargetEncoder(handle_missing=\"value\", handle_unknown=\"value\"), [\"tournament\"]),\n",
    "        (\"num\", StandardScaler(), feat_num)\n",
    "    ],\n",
    "    remainder=\"drop\",\n",
    "    verbose_feature_names_out=False\n",
    ")\n"
   ]
  },
  {
   "cell_type": "markdown",
   "id": "68385a7d",
   "metadata": {},
   "source": [
    "##### 3) Modelado: Construcción y entrenamiento de los modelos de aprendizaje automático."
   ]
  },
  {
   "cell_type": "markdown",
   "id": "60bf3a8b",
   "metadata": {},
   "source": [
    "📝 Para modelar el problema, se van a utilizar diferentes algoritmos de clasificación para hacer un analisis comparativo y ver cual se adapta mejor al problema."
   ]
  },
  {
   "cell_type": "code",
   "execution_count": 118,
   "id": "9201858f",
   "metadata": {},
   "outputs": [
    {
     "name": "stdout",
     "output_type": "stream",
     "text": [
      "\n",
      "Top 10 importancias:\n",
      "away_team      4.028281\n",
      "home_team      3.972452\n",
      "tournament     2.867973\n",
      "rating_diff    0.533442\n",
      "neutral        0.185195\n",
      "year           0.076843\n",
      "dayofweek      0.013820\n",
      "month          0.006417\n",
      "dtype: float64\n"
     ]
    },
    {
     "data": {
      "image/png": "[encoded data removed]",
      "text/plain": [
       "<Figure size 600x400 with 1 Axes>"
      ]
     },
     "metadata": {},
     "output_type": "display_data"
    }
   ],
   "source": [
    "# Logistic Regression\n",
    "\n",
    "clf = Pipeline(steps=[\n",
    "    (\"pre\", pre),\n",
    "    (\"model\", LogisticRegression(\n",
    "        max_iter=1000,\n",
    "        class_weight=\"balanced\"\n",
    "    ))\n",
    "])\n",
    "\n",
    "# Fit\n",
    "clf.fit(X_tr, y_tr)\n",
    "\n",
    "# Predicciones\n",
    "y_pred_logreg = clf.predict(X_te)\n",
    "y_proba_logreg = clf.predict_proba(X_te)\n",
    "\n",
    "# Importancia de features\n",
    "try:\n",
    "    feature_names = clf.named_steps[\"pre\"].get_feature_names_out()\n",
    "except Exception:\n",
    "    feature_names = np.array([\"home_team_TE\",\"away_team_TE\",\"tournament_TE\"] + feat_num)\n",
    "\n",
    "importances = pd.Series(np.mean(np.abs(clf.named_steps[\"model\"].coef_), axis=0), index=feature_names).sort_values(ascending=False)\n",
    "\n",
    "print(\"\\nTop 10 importancias:\")\n",
    "print(importances.head(10))\n",
    "\n",
    "plt.figure(figsize=(6,4))\n",
    "importances.head(10).sort_values().plot(kind=\"barh\")\n",
    "plt.title(\"Importancia de variables\")\n",
    "plt.xlabel(\"Importance\")\n",
    "plt.tight_layout()\n",
    "plt.show()"
   ]
  },
  {
   "cell_type": "code",
   "execution_count": 119,
   "id": "63d32a6b",
   "metadata": {},
   "outputs": [],
   "source": [
    "# KNN\n",
    "\n",
    "clf = Pipeline(steps=[\n",
    "    (\"pre\", pre),\n",
    "    (\"model\", KNeighborsClassifier(\n",
    "        n_neighbors=21, metric=\"minkowski\", p=2\n",
    "    ))\n",
    "])\n",
    "\n",
    "# Fit\n",
    "clf.fit(X_tr, y_tr)\n",
    "\n",
    "# Predicciones\n",
    "y_pred_knn = clf.predict(X_te)\n",
    "y_proba_knn = clf.predict_proba(X_te)"
   ]
  },
  {
   "cell_type": "code",
   "execution_count": 120,
   "id": "2e3de887",
   "metadata": {},
   "outputs": [],
   "source": [
    "# SVM\n",
    "\n",
    "clf = Pipeline(steps=[\n",
    "    (\"pre\", pre),\n",
    "    (\"model\", SVC(C=5, kernel=\"rbf\", decision_function_shape='ovr', probability=True))\n",
    "])\n",
    "\n",
    "# Fit\n",
    "clf.fit(X_tr, y_tr)\n",
    "\n",
    "# Predicciones\n",
    "y_pred_svm = clf.predict(X_te)\n",
    "y_proba_svm = clf.predict_proba(X_te)"
   ]
  },
  {
   "cell_type": "code",
   "execution_count": 121,
   "id": "e7692777",
   "metadata": {},
   "outputs": [],
   "source": [
    "# Arbol de decisión\n",
    "\n",
    "clf = Pipeline(steps=[\n",
    "    (\"pre\", pre),\n",
    "    (\"model\", DecisionTreeClassifier(\n",
    "        criterion='entropy', \n",
    "        splitter='best', \n",
    "        max_depth=10,\n",
    "        min_samples_split=8,\n",
    "        min_samples_leaf=5,\n",
    "        class_weight='balanced',\n",
    "        random_state=42)\n",
    "    )\n",
    "])\n",
    "\n",
    "# Fit\n",
    "clf.fit(X_tr, y_tr)\n",
    "\n",
    "# Predicciones\n",
    "y_pred_dtc = clf.predict(X_te)\n",
    "y_proba_dtc = clf.predict_proba(X_te)"
   ]
  },
  {
   "cell_type": "code",
   "execution_count": 122,
   "id": "60b25f3a",
   "metadata": {},
   "outputs": [],
   "source": [
    "# Random Forest\n",
    "rfc = RandomForestClassifier(n_estimators=50, criterion='entropy', max_depth=15, \n",
    "                             min_samples_split=8, min_samples_leaf=3, \n",
    "                             class_weight='balanced', random_state=42)\n",
    "clf = Pipeline(steps=[\n",
    "    (\"pre\", pre),\n",
    "    (\"model\", RandomForestClassifier(n_estimators=50, criterion='entropy', max_depth=15, \n",
    "                             min_samples_split=8, min_samples_leaf=3, \n",
    "                             class_weight='balanced', random_state=42)\n",
    "    )\n",
    "])\n",
    "\n",
    "# Fit\n",
    "clf.fit(X_tr, y_tr)\n",
    "\n",
    "# Predicciones\n",
    "y_pred_rfc = clf.predict(X_te)\n",
    "y_proba_rfc = clf.predict_proba(X_te)"
   ]
  },
  {
   "cell_type": "markdown",
   "id": "370404a7",
   "metadata": {},
   "source": [
    "##### 4) Evaluación de Resultados: Análisis cuantitativo y cualitativo del rendimiento de los modelos utilizando métricas apropiadas. Se deben interpretar los resultados en el contexto del problema original."
   ]
  },
  {
   "cell_type": "code",
   "execution_count": 123,
   "id": "184a9dad",
   "metadata": {},
   "outputs": [],
   "source": [
    "# Funcion para imprimir resultados de clasificación\n",
    "def print_classification_results(y_test, y_pred, model_name):\n",
    "    print(f\"\\nResultados para {model_name}:\")\n",
    "\n",
    "    print(\"\\nAccuracy:\", accuracy_score(y_test, y_pred))\n",
    "    print(\"F1-score (macro):\", f1_score(y_test, y_pred, average='macro'))\n",
    "\n",
    "    print(\"\\nClassification Report:\\n\", \n",
    "          classification_report(y_test, y_pred, \n",
    "                              target_names=[\"nowin\", \"win\"],\n",
    "                              zero_division=0))\n",
    "    plot_normalized_confusion(y_test, y_pred)\n",
    "    \n",
    "def plot_normalized_confusion(y_true, y_pred, labels=[\"nowin\", \"win\"],\n",
    "                              title=\"Matriz de confusión\", figsize=(4.5, 4)):\n",
    "    # Matriz de confusión normalizada\n",
    "    cm = confusion_matrix(y_true, y_pred, labels=[0, 1], normalize=\"true\")\n",
    "    disp = ConfusionMatrixDisplay(confusion_matrix=cm, display_labels=labels)\n",
    "    plt.figure(figsize=figsize)\n",
    "    disp.plot(values_format=\".2f\", cmap=None, colorbar=False)\n",
    "    plt.title(title)\n",
    "    plt.show()"
   ]
  },
  {
   "cell_type": "markdown",
   "id": "f4d8c669",
   "metadata": {},
   "source": [
    "📝 En el contexto de este problema, queremos que el modelo prediga las clases del resultado por igual. Por lo que nos vamos a enfocar en la métrica de accuracy, pero como existe un desbalance en las clases, también se va a considerar la métrica de F1-score global y log loss."
   ]
  },
  {
   "cell_type": "code",
   "execution_count": 124,
   "id": "3a5977ee",
   "metadata": {},
   "outputs": [
    {
     "name": "stdout",
     "output_type": "stream",
     "text": [
      "\n",
      "Resultados para Regresión Logística:\n",
      "\n",
      "Accuracy: 0.6784857649389926\n",
      "F1-score (macro): 0.6784574394870805\n",
      "\n",
      "Classification Report:\n",
      "               precision    recall  f1-score   support\n",
      "\n",
      "       nowin       0.69      0.67      0.68      4891\n",
      "         win       0.67      0.68      0.68      4698\n",
      "\n",
      "    accuracy                           0.68      9589\n",
      "   macro avg       0.68      0.68      0.68      9589\n",
      "weighted avg       0.68      0.68      0.68      9589\n",
      "\n"
     ]
    },
    {
     "data": {
      "text/plain": [
       "<Figure size 450x400 with 0 Axes>"
      ]
     },
     "metadata": {},
     "output_type": "display_data"
    },
    {
     "data": {
      "image/png": "[encoded data removed]",
      "text/plain": [
       "<Figure size 640x480 with 1 Axes>"
      ]
     },
     "metadata": {},
     "output_type": "display_data"
    },
    {
     "name": "stdout",
     "output_type": "stream",
     "text": [
      "\n",
      "Resultados para KNN:\n",
      "\n",
      "Accuracy: 0.6504327875690896\n",
      "F1-score (macro): 0.6502536750301126\n",
      "\n",
      "Classification Report:\n",
      "               precision    recall  f1-score   support\n",
      "\n",
      "       nowin       0.66      0.66      0.66      4891\n",
      "         win       0.64      0.64      0.64      4698\n",
      "\n",
      "    accuracy                           0.65      9589\n",
      "   macro avg       0.65      0.65      0.65      9589\n",
      "weighted avg       0.65      0.65      0.65      9589\n",
      "\n"
     ]
    },
    {
     "data": {
      "text/plain": [
       "<Figure size 450x400 with 0 Axes>"
      ]
     },
     "metadata": {},
     "output_type": "display_data"
    },
    {
     "data": {
      "image/png": "[encoded data removed]",
      "text/plain": [
       "<Figure size 640x480 with 1 Axes>"
      ]
     },
     "metadata": {},
     "output_type": "display_data"
    },
    {
     "name": "stdout",
     "output_type": "stream",
     "text": [
      "\n",
      "Resultados para SVC:\n",
      "\n",
      "Accuracy: 0.6791114819063511\n",
      "F1-score (macro): 0.6787928770317686\n",
      "\n",
      "Classification Report:\n",
      "               precision    recall  f1-score   support\n",
      "\n",
      "       nowin       0.68      0.70      0.69      4891\n",
      "         win       0.68      0.66      0.67      4698\n",
      "\n",
      "    accuracy                           0.68      9589\n",
      "   macro avg       0.68      0.68      0.68      9589\n",
      "weighted avg       0.68      0.68      0.68      9589\n",
      "\n"
     ]
    },
    {
     "data": {
      "text/plain": [
       "<Figure size 450x400 with 0 Axes>"
      ]
     },
     "metadata": {},
     "output_type": "display_data"
    },
    {
     "data": {
      "image/png": "[encoded data removed]",
      "text/plain": [
       "<Figure size 640x480 with 1 Axes>"
      ]
     },
     "metadata": {},
     "output_type": "display_data"
    },
    {
     "name": "stdout",
     "output_type": "stream",
     "text": [
      "\n",
      "Resultados para Árbol de Decisión:\n",
      "\n",
      "Accuracy: 0.6544999478569193\n",
      "F1-score (macro): 0.6544638568502744\n",
      "\n",
      "Classification Report:\n",
      "               precision    recall  f1-score   support\n",
      "\n",
      "       nowin       0.66      0.65      0.66      4891\n",
      "         win       0.64      0.66      0.65      4698\n",
      "\n",
      "    accuracy                           0.65      9589\n",
      "   macro avg       0.65      0.65      0.65      9589\n",
      "weighted avg       0.65      0.65      0.65      9589\n",
      "\n"
     ]
    },
    {
     "data": {
      "text/plain": [
       "<Figure size 450x400 with 0 Axes>"
      ]
     },
     "metadata": {},
     "output_type": "display_data"
    },
    {
     "data": {
      "image/png": "[encoded data removed]",
      "text/plain": [
       "<Figure size 640x480 with 1 Axes>"
      ]
     },
     "metadata": {},
     "output_type": "display_data"
    },
    {
     "name": "stdout",
     "output_type": "stream",
     "text": [
      "\n",
      "Resultados para Random Forest:\n",
      "\n",
      "Accuracy: 0.6784857649389926\n",
      "F1-score (macro): 0.6784006476613411\n",
      "\n",
      "Classification Report:\n",
      "               precision    recall  f1-score   support\n",
      "\n",
      "       nowin       0.69      0.68      0.68      4891\n",
      "         win       0.67      0.68      0.67      4698\n",
      "\n",
      "    accuracy                           0.68      9589\n",
      "   macro avg       0.68      0.68      0.68      9589\n",
      "weighted avg       0.68      0.68      0.68      9589\n",
      "\n"
     ]
    },
    {
     "data": {
      "text/plain": [
       "<Figure size 450x400 with 0 Axes>"
      ]
     },
     "metadata": {},
     "output_type": "display_data"
    },
    {
     "data": {
      "image/png": "[encoded data removed]",
      "text/plain": [
       "<Figure size 640x480 with 1 Axes>"
      ]
     },
     "metadata": {},
     "output_type": "display_data"
    }
   ],
   "source": [
    "print_classification_results(y_te, y_pred_logreg, \"Regresión Logística\")\n",
    "print_classification_results(y_te, y_pred_knn, \"KNN\")\n",
    "print_classification_results(y_te, y_pred_svm, \"SVC\")\n",
    "print_classification_results(y_te, y_pred_dtc, \"Árbol de Decisión\")\n",
    "print_classification_results(y_te, y_pred_rfc, \"Random Forest\")"
   ]
  },
  {
   "cell_type": "code",
   "execution_count": 125,
   "id": "061bdb4a",
   "metadata": {},
   "outputs": [
    {
     "name": "stdout",
     "output_type": "stream",
     "text": [
      "(win vs no-win) @thr=0.50\n",
      "Accuracy : 0.678\n",
      "Precision: 0.671\n",
      "Recall   : 0.676\n",
      "F1       : 0.673\n",
      "ROC-AUC  : 0.744\n",
      "\n",
      "=== Mejor umbral por F1 ===\n",
      "thr          0.390\n",
      "accuracy     0.655\n",
      "precision    0.609\n",
      "recall       0.824\n",
      "f1           0.701\n",
      "Name: 9, dtype: float64\n"
     ]
    },
    {
     "data": {
      "image/png": "[encoded data removed]",
      "text/plain": [
       "<Figure size 500x400 with 1 Axes>"
      ]
     },
     "metadata": {},
     "output_type": "display_data"
    },
    {
     "data": {
      "image/png": "[encoded data removed]",
      "text/plain": [
       "<Figure size 500x400 with 1 Axes>"
      ]
     },
     "metadata": {},
     "output_type": "display_data"
    },
    {
     "name": "stdout",
     "output_type": "stream",
     "text": [
      "\n",
      "=== BINARIO @thr=0.40 (óptimo por F1) ===\n",
      "Accuracy : 0.656\n",
      "Precision: 0.613\n",
      "Recall   : 0.808\n",
      "F1       : 0.697\n"
     ]
    }
   ],
   "source": [
    "# clf es ahora Random Forest\n",
    "p_win = clf.predict_proba(X_te)[:, 1]  # prob de win\n",
    "y_pred05 = (p_win >= 0.5).astype(int)\n",
    "\n",
    "acc = accuracy_score(y_te, y_pred05)\n",
    "prec, rec, f1, _ = precision_recall_fscore_support(y_te, y_pred05, average=\"binary\", zero_division=0)\n",
    "auc = roc_auc_score(y_te, p_win)\n",
    "\n",
    "print(\"(win vs no-win) @thr=0.50\")\n",
    "print(f\"Accuracy : {acc:.3f}\")\n",
    "print(f\"Precision: {prec:.3f}\")\n",
    "print(f\"Recall   : {rec:.3f}\")\n",
    "print(f\"F1       : {f1:.3f}\")\n",
    "print(f\"ROC-AUC  : {auc:.3f}\")\n",
    "\n",
    "# --- 8) Buscar mejor umbral por F1\n",
    "ths = np.linspace(0.3, 0.7, 41)  # barrido fino\n",
    "rows = []\n",
    "for t in ths:\n",
    "    y_hat = (p_win >= t).astype(int)\n",
    "    acc_t = accuracy_score(y_te, y_hat)\n",
    "    prec_t, rec_t, f1_t, _ = precision_recall_fscore_support(y_te, y_hat, average=\"binary\", zero_division=0)\n",
    "    rows.append({\"thr\": t, \"accuracy\": acc_t, \"precision\": prec_t, \"recall\": rec_t, \"f1\": f1_t})\n",
    "scan = pd.DataFrame(rows)\n",
    "best = scan.sort_values(\"f1\", ascending=False).iloc[0]\n",
    "print(\"\\n=== Mejor umbral por F1 ===\")\n",
    "print(best.round(3))\n",
    "\n",
    "# Curvas ROC y PR\n",
    "fpr, tpr, _ = roc_curve(y_te, p_win)\n",
    "pr, rc, _ = precision_recall_curve(y_te, p_win)\n",
    "\n",
    "plt.figure(figsize=(5,4))\n",
    "plt.plot(fpr, tpr)\n",
    "plt.plot([0,1],[0,1],'--', alpha=0.6)\n",
    "plt.xlabel(\"False Positive Rate\")\n",
    "plt.ylabel(\"True Positive Rate\")\n",
    "plt.title(f\"ROC curve (AUC={auc:.3f})\")\n",
    "plt.grid(True, linestyle=\"--\", alpha=0.4)\n",
    "plt.show()\n",
    "\n",
    "plt.figure(figsize=(5,4))\n",
    "plt.plot(rc, pr)\n",
    "plt.xlabel(\"Recall\")\n",
    "plt.ylabel(\"Precision\")\n",
    "plt.title(\"Precision-Recall curve (win=1)\")\n",
    "plt.grid(True, linestyle=\"--\", alpha=0.4)\n",
    "plt.show()\n",
    "\n",
    "thr_bin = 0.40   # binario\n",
    "\n",
    "# Predicción con umbral óptimo\n",
    "y_pred_opt = (p_win >= thr_bin).astype(int)\n",
    "acc_o = accuracy_score(y_te, y_pred_opt)\n",
    "prec_o, rec_o, f1_o, _ = precision_recall_fscore_support(y_te, y_pred_opt, average=\"binary\", zero_division=0)\n",
    "print(f\"\\n=== BINARIO @thr={thr_bin:.2f} (óptimo por F1) ===\")\n",
    "print(f\"Accuracy : {acc_o:.3f}\")\n",
    "print(f\"Precision: {prec_o:.3f}\")\n",
    "print(f\"Recall   : {rec_o:.3f}\")\n",
    "print(f\"F1       : {f1_o:.3f}\")"
   ]
  },
  {
   "cell_type": "markdown",
   "id": "7ce0ab2c",
   "metadata": {},
   "source": [
    "---\n",
    "\n",
    "📝 Se obtuvieron mejores resultados"
   ]
  }
 ],
 "metadata": {
  "kernelspec": {
   "display_name": "intro-ai",
   "language": "python",
   "name": "intro-ai"
  },
  "language_info": {
   "codemirror_mode": {
    "name": "ipython",
    "version": 3
   },
   "file_extension": ".py",
   "mimetype": "text/x-python",
   "name": "python",
   "nbconvert_exporter": "python",
   "pygments_lexer": "ipython3",
   "version": "3.11.13"
  }
 },
 "nbformat": 4,
 "nbformat_minor": 5
}
