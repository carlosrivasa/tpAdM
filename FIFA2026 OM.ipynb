{
 "cells": [
  {
   "cell_type": "markdown",
   "id": "e2a0cb7e",
   "metadata": {},
   "source": [
    "# Aprendizaje de máquina - Proyecto final"
   ]
  },
  {
   "cell_type": "markdown",
   "id": "f94441c8",
   "metadata": {},
   "source": [
    "Para este proyecto se eligio el dataset \"International football results\", disponible en [Kaggle](https://www.kaggle.com/datasets/martj42/international-football-results-from-1872-to-2017), el cual contiene los siguientes datos:\n",
    "- date: Fecha del partido\n",
    "- home_team: nombre del equipo local\n",
    "- away_team: nombre del equipo visitante\n",
    "- home_score: goles del equipo local\n",
    "- away_score: goles del equipo visitante\n",
    "- tournament: nombre del torneo (amistoso, copa mundial, etc.)\n",
    "- city: ciudad donde se jugó el partido\n",
    "- country: país donde se jugó el partido\n",
    "- neutral: indica si el partido se jugó en un campo neutral\n",
    "\n",
    "Como **objetivo** se plantea predecir el resultado de los partidos (win, draw, lose)."
   ]
  },
  {
   "cell_type": "code",
   "execution_count": 9,
   "id": "f4c9efd5",
   "metadata": {},
   "outputs": [],
   "source": [
    "import pandas as pd\n",
    "import numpy as np\n",
    "import matplotlib.pyplot as plt\n",
    "import seaborn as sns\n",
    "from sklearn.preprocessing import LabelEncoder, StandardScaler\n",
    "from category_encoders import TargetEncoder\n",
    "from sklearn.linear_model import LogisticRegression\n",
    "from sklearn.neighbors import KNeighborsClassifier\n",
    "from sklearn.svm import SVC\n",
    "from sklearn.tree import DecisionTreeClassifier\n",
    "from sklearn.ensemble import RandomForestClassifier\n",
    "from sklearn.metrics import accuracy_score, confusion_matrix, f1_score, classification_report\n",
    "from sklearn.model_selection import train_test_split\n",
    "import warnings\n",
    "warnings.filterwarnings('ignore')\n"
   ]
  },
  {
   "cell_type": "markdown",
   "id": "da0657ad",
   "metadata": {},
   "source": [
    "##### 1) EDA: Comprensión inicial del dataset, estadísticas descriptivas, identificación de variables, visualizaciones para entender distribuciones, correlaciones y posibles problemas como valores nulos o atípico."
   ]
  },
  {
   "cell_type": "code",
   "execution_count": 10,
   "id": "7d0e95e8",
   "metadata": {},
   "outputs": [],
   "source": [
    "results = pd.read_csv(\"./archive/results.csv\", parse_dates=[\"date\"])\n",
    "#results[\"date\"] = pd.to_datetime(results[\"date\"], dayfirst=True, errors=\"coerce\")\n",
    "results[\"date\"] = pd.to_datetime(results[\"date\"], format=\"mixed\", dayfirst=True, errors=\"coerce\")"
   ]
  },
  {
   "cell_type": "code",
   "execution_count": 11,
   "id": "8dd7d57d",
   "metadata": {},
   "outputs": [
    {
     "name": "stdout",
     "output_type": "stream",
     "text": [
      "Dimensiones del dataset:  (48532, 9)\n"
     ]
    },
    {
     "data": {
      "text/html": [
       "<div>\n",
       "<style scoped>\n",
       "    .dataframe tbody tr th:only-of-type {\n",
       "        vertical-align: middle;\n",
       "    }\n",
       "\n",
       "    .dataframe tbody tr th {\n",
       "        vertical-align: top;\n",
       "    }\n",
       "\n",
       "    .dataframe thead th {\n",
       "        text-align: right;\n",
       "    }\n",
       "</style>\n",
       "<table border=\"1\" class=\"dataframe\">\n",
       "  <thead>\n",
       "    <tr style=\"text-align: right;\">\n",
       "      <th></th>\n",
       "      <th>date</th>\n",
       "      <th>home_team</th>\n",
       "      <th>away_team</th>\n",
       "      <th>home_score</th>\n",
       "      <th>away_score</th>\n",
       "      <th>tournament</th>\n",
       "      <th>city</th>\n",
       "      <th>country</th>\n",
       "      <th>neutral</th>\n",
       "    </tr>\n",
       "  </thead>\n",
       "  <tbody>\n",
       "    <tr>\n",
       "      <th>0</th>\n",
       "      <td>1872-11-30</td>\n",
       "      <td>Scotland</td>\n",
       "      <td>England</td>\n",
       "      <td>0</td>\n",
       "      <td>0</td>\n",
       "      <td>Friendly</td>\n",
       "      <td>Glasgow</td>\n",
       "      <td>Scotland</td>\n",
       "      <td>False</td>\n",
       "    </tr>\n",
       "    <tr>\n",
       "      <th>1</th>\n",
       "      <td>1873-03-08</td>\n",
       "      <td>England</td>\n",
       "      <td>Scotland</td>\n",
       "      <td>4</td>\n",
       "      <td>2</td>\n",
       "      <td>Friendly</td>\n",
       "      <td>London</td>\n",
       "      <td>England</td>\n",
       "      <td>False</td>\n",
       "    </tr>\n",
       "    <tr>\n",
       "      <th>2</th>\n",
       "      <td>1874-03-07</td>\n",
       "      <td>Scotland</td>\n",
       "      <td>England</td>\n",
       "      <td>2</td>\n",
       "      <td>1</td>\n",
       "      <td>Friendly</td>\n",
       "      <td>Glasgow</td>\n",
       "      <td>Scotland</td>\n",
       "      <td>False</td>\n",
       "    </tr>\n",
       "    <tr>\n",
       "      <th>3</th>\n",
       "      <td>1875-03-06</td>\n",
       "      <td>England</td>\n",
       "      <td>Scotland</td>\n",
       "      <td>2</td>\n",
       "      <td>2</td>\n",
       "      <td>Friendly</td>\n",
       "      <td>London</td>\n",
       "      <td>England</td>\n",
       "      <td>False</td>\n",
       "    </tr>\n",
       "    <tr>\n",
       "      <th>4</th>\n",
       "      <td>1876-03-04</td>\n",
       "      <td>Scotland</td>\n",
       "      <td>England</td>\n",
       "      <td>3</td>\n",
       "      <td>0</td>\n",
       "      <td>Friendly</td>\n",
       "      <td>Glasgow</td>\n",
       "      <td>Scotland</td>\n",
       "      <td>False</td>\n",
       "    </tr>\n",
       "  </tbody>\n",
       "</table>\n",
       "</div>"
      ],
      "text/plain": [
       "        date home_team away_team  home_score  away_score tournament     city  \\\n",
       "0 1872-11-30  Scotland   England           0           0   Friendly  Glasgow   \n",
       "1 1873-03-08   England  Scotland           4           2   Friendly   London   \n",
       "2 1874-03-07  Scotland   England           2           1   Friendly  Glasgow   \n",
       "3 1875-03-06   England  Scotland           2           2   Friendly   London   \n",
       "4 1876-03-04  Scotland   England           3           0   Friendly  Glasgow   \n",
       "\n",
       "    country  neutral  \n",
       "0  Scotland    False  \n",
       "1   England    False  \n",
       "2  Scotland    False  \n",
       "3   England    False  \n",
       "4  Scotland    False  "
      ]
     },
     "execution_count": 11,
     "metadata": {},
     "output_type": "execute_result"
    }
   ],
   "source": [
    "print(\"Dimensiones del dataset: \", results.shape)\n",
    "results.head()"
   ]
  },
  {
   "cell_type": "markdown",
   "id": "8c859f90",
   "metadata": {},
   "source": [
    "Vemos si el dataset contiene valores nulos y duplicados:"
   ]
  },
  {
   "cell_type": "code",
   "execution_count": 14,
   "id": "224ffcc3",
   "metadata": {},
   "outputs": [
    {
     "name": "stdout",
     "output_type": "stream",
     "text": [
      "Valores nulos:\n",
      " date          0\n",
      "home_team     0\n",
      "away_team     0\n",
      "home_score    0\n",
      "away_score    0\n",
      "tournament    0\n",
      "city          0\n",
      "country       0\n",
      "neutral       0\n",
      "dtype: int64\n",
      "\n",
      "Valores duplicados:  0\n"
     ]
    }
   ],
   "source": [
    "print(\"Valores nulos:\\n\", results.isna().sum())\n",
    "print(\"\\nValores duplicados: \", results.duplicated().sum())"
   ]
  },
  {
   "cell_type": "code",
   "execution_count": 15,
   "id": "79738a9a",
   "metadata": {},
   "outputs": [
    {
     "name": "stdout",
     "output_type": "stream",
     "text": [
      "<class 'pandas.core.frame.DataFrame'>\n",
      "RangeIndex: 48532 entries, 0 to 48531\n",
      "Data columns (total 9 columns):\n",
      " #   Column      Non-Null Count  Dtype         \n",
      "---  ------      --------------  -----         \n",
      " 0   date        48532 non-null  datetime64[ns]\n",
      " 1   home_team   48532 non-null  object        \n",
      " 2   away_team   48532 non-null  object        \n",
      " 3   home_score  48532 non-null  int64         \n",
      " 4   away_score  48532 non-null  int64         \n",
      " 5   tournament  48532 non-null  object        \n",
      " 6   city        48532 non-null  object        \n",
      " 7   country     48532 non-null  object        \n",
      " 8   neutral     48532 non-null  bool          \n",
      "dtypes: bool(1), datetime64[ns](1), int64(2), object(5)\n",
      "memory usage: 3.0+ MB\n"
     ]
    },
    {
     "data": {
      "text/plain": [
       "[        date home_team away_team  home_score  away_score tournament     city  \\\n",
       " 0 1872-11-30  Scotland   England           0           0   Friendly  Glasgow   \n",
       " 1 1873-03-08   England  Scotland           4           2   Friendly   London   \n",
       " 2 1874-03-07  Scotland   England           2           1   Friendly  Glasgow   \n",
       " 3 1875-03-06   England  Scotland           2           2   Friendly   London   \n",
       " 4 1876-03-04  Scotland   England           3           0   Friendly  Glasgow   \n",
       " \n",
       "     country  neutral  \n",
       " 0  Scotland    False  \n",
       " 1   England    False  \n",
       " 2  Scotland    False  \n",
       " 3   England    False  \n",
       " 4  Scotland    False  ,\n",
       "             date               home_team away_team  home_score  away_score  \\\n",
       " 48527 2025-09-09  Bosnia and Herzegovina   Austria           1           2   \n",
       " 48528 2025-09-09                  Cyprus   Romania           2           2   \n",
       " 48529 2025-09-09                  Norway   Moldova          11           1   \n",
       " 48530 2025-09-09                 Albania    Latvia           1           0   \n",
       " 48531 2025-09-09                  Serbia   England           0           5   \n",
       " \n",
       "                          tournament      city                 country  neutral  \n",
       " 48527  FIFA World Cup qualification    Zenica  Bosnia and Herzegovina    False  \n",
       " 48528  FIFA World Cup qualification   Nicosia                  Cyprus    False  \n",
       " 48529  FIFA World Cup qualification      Oslo                  Norway    False  \n",
       " 48530  FIFA World Cup qualification    Tirana                 Albania    False  \n",
       " 48531  FIFA World Cup qualification  Belgrade                  Serbia    False  ]"
      ]
     },
     "execution_count": 15,
     "metadata": {},
     "output_type": "execute_result"
    }
   ],
   "source": [
    "# OM: revisar estructura del dataset\n",
    "results.info()\n",
    "[results.head(5), results.tail(5)]"
   ]
  },
  {
   "cell_type": "code",
   "execution_count": null,
   "id": "a777f99c",
   "metadata": {},
   "outputs": [
    {
     "data": {
      "text/plain": [
       "188"
      ]
     },
     "execution_count": 6,
     "metadata": {},
     "output_type": "execute_result"
    }
   ],
   "source": [
    "# OM Cuántos torneos únicos hay en el dataset?\n",
    "results[\"tournament\"].nunique()"
   ]
  },
  {
   "cell_type": "code",
   "execution_count": 16,
   "id": "5d6b7978",
   "metadata": {},
   "outputs": [
    {
     "data": {
      "text/plain": [
       "Timestamp('1930-07-13 00:00:00')"
      ]
     },
     "execution_count": 16,
     "metadata": {},
     "output_type": "execute_result"
    }
   ],
   "source": [
    "# OM ¿Cuál es la fecha del primer partido de copas del mundo  de la FIFA (1930 no tuvo clasificación para la Copa Mundial)?\n",
    "results.loc[results[\"tournament\"] == \"FIFA World Cup\", \"date\"].min()"
   ]
  },
  {
   "cell_type": "code",
   "execution_count": 17,
   "id": "e8aa026d",
   "metadata": {},
   "outputs": [
    {
     "data": {
      "text/plain": [
       "tournament\n",
       "Friendly                                17276\n",
       "FIFA World Cup qualification             8529\n",
       "UEFA Euro qualification                  2824\n",
       "African Cup of Nations qualification     2278\n",
       "FIFA World Cup                            964\n",
       "                                        ...  \n",
       "TIFOCO Tournament                           1\n",
       "Copa Confraternidad                         1\n",
       "ConIFA Challenger Cup                       1\n",
       "Benedikt Fontana Cup                        1\n",
       "South Asian Super Cup                       1\n",
       "Name: count, Length: 181, dtype: int64"
      ]
     },
     "execution_count": 17,
     "metadata": {},
     "output_type": "execute_result"
    }
   ],
   "source": [
    "# OM Filtrar el dataset para quedarnos solo con los partidos jugados desde la fecha del primer partido de copa del mundo de la FIFA en adelante. ¿Cuántos partidos hay en este subconjunto? \n",
    "results_filtrado = results[results[\"date\"].dt.date >= pd.to_datetime(results.loc[results[\"tournament\"] == \"FIFA World Cup\", \"date\"].min()).date()]\n",
    "results_filtrado[\"tournament\"].value_counts()"
   ]
  },
  {
   "cell_type": "code",
   "execution_count": null,
   "id": "1d797a62",
   "metadata": {},
   "outputs": [
    {
     "data": {
      "text/plain": [
       "181"
      ]
     },
     "execution_count": 18,
     "metadata": {},
     "output_type": "execute_result"
    }
   ],
   "source": [
    "# OM Cuántos torneos únicos hay en este subconjunto?\n",
    "results_filtrado[\"tournament\"].nunique()"
   ]
  },
  {
   "cell_type": "code",
   "execution_count": 28,
   "id": "5d109397",
   "metadata": {},
   "outputs": [],
   "source": [
    "# OM: A partir de aquí desarrollo el modelo predictivo\n",
    "\n",
    "# Crear la columna target win/draw/loss basada en el resultado del partido\n",
    "results_filtrado[\"goal_diff\"] = results_filtrado[\"home_score\"] - results_filtrado[\"away_score\"]\n",
    "\n",
    "# np.select por defecto usa 0 como default (entero), lo que genera conflicto de dtype con strings.\n",
    "# Se especifica un default de tipo string para evitar el TypeError.\n",
    "#results_filtrado[\"target\"] = np.select(\n",
    "#    [results_filtrado[\"goal_diff\"] > 0, results_filtrado[\"goal_diff\"] == 0, results_filtrado[\"goal_diff\"] < 0],\n",
    "#    [\"win\", \"draw\", \"loss\"],\n",
    "#    default=\"unknown\"\n",
    "#)\n",
    "\n",
    "results_filtrado = results_filtrado.copy()\n",
    "sign_map = {1: \"win\", 0: \"draw\", -1: \"loss\"}\n",
    "results_filtrado[\"target\"] = np.sign(results_filtrado[\"goal_diff\"]).map(sign_map)\n",
    "\n",
    "# sanity check\n",
    "assert results_filtrado[\"target\"].isna().sum() == 0"
   ]
  },
  {
   "cell_type": "code",
   "execution_count": 29,
   "id": "7be938fa",
   "metadata": {},
   "outputs": [
    {
     "name": "stdout",
     "output_type": "stream",
     "text": [
      "Distribución del target:\n",
      "target\n",
      "win     0.489\n",
      "loss    0.282\n",
      "draw    0.229\n",
      "Name: proportion, dtype: float64\n",
      "\n",
      "Classification report (test):\n",
      "              precision    recall  f1-score   support\n",
      "\n",
      "        draw      0.265     0.135     0.179      2156\n",
      "        loss      0.490     0.447     0.468      2651\n",
      "         win      0.596     0.763     0.669      4603\n",
      "\n",
      "    accuracy                          0.530      9410\n",
      "   macro avg      0.450     0.448     0.438      9410\n",
      "weighted avg      0.490     0.530     0.500      9410\n",
      "\n"
     ]
    },
    {
     "data": {
      "text/plain": [
       "<Figure size 450x400 with 0 Axes>"
      ]
     },
     "metadata": {},
     "output_type": "display_data"
    },
    {
     "data": {
      "image/png": "[encoded data removed]",
      "text/plain": [
       "<Figure size 640x480 with 1 Axes>"
      ]
     },
     "metadata": {},
     "output_type": "display_data"
    },
    {
     "name": "stdout",
     "output_type": "stream",
     "text": [
      "\n",
      "Top 12 importancias:\n",
      "away_team     0.244065\n",
      "home_team     0.229111\n",
      "year          0.214052\n",
      "month         0.116836\n",
      "dayofweek     0.099395\n",
      "tournament    0.085647\n",
      "neutral       0.010894\n",
      "dtype: float64\n"
     ]
    },
    {
     "data": {
      "image/png": "[encoded data removed]",
      "text/plain": [
       "<Figure size 600x400 with 1 Axes>"
      ]
     },
     "metadata": {},
     "output_type": "display_data"
    }
   ],
   "source": [
    "# Distribución (opcional)\n",
    "print(\"Distribución del target:\")\n",
    "print(results_filtrado[\"target\"].value_counts(normalize=True).round(3))\n",
    "\n",
    "# =========================================\n",
    "# 4) FEATURES base (roles explícitos + numéricas)\n",
    "# =========================================\n",
    "results_filtrado[\"year\"] = results_filtrado[\"date\"].dt.year\n",
    "results_filtrado[\"month\"] = results_filtrado[\"date\"].dt.month\n",
    "results_filtrado[\"dayofweek\"] = results_filtrado[\"date\"].dt.dayofweek\n",
    "results_filtrado[\"neutral\"] = results_filtrado[\"neutral\"].astype(int)\n",
    "\n",
    "feat_cat = [\"home_team\", \"away_team\", \"tournament\"]\n",
    "feat_num = [\"neutral\", \"year\", \"month\", \"dayofweek\"]\n",
    "\n",
    "X = results_filtrado[feat_cat + feat_num]\n",
    "y = results_filtrado[\"target\"]\n",
    "\n",
    "# =========================================\n",
    "# 5) SPLIT antes de cualquier fit (evita leakage)\n",
    "# =========================================\n",
    "from sklearn.model_selection import train_test_split\n",
    "\n",
    "X_tr, X_te, y_tr, y_te = train_test_split(\n",
    "    X, y, test_size=0.20, random_state=42, stratify=y\n",
    ")\n",
    "\n",
    "# =========================================\n",
    "# 6) PREPROCESAMIENTO con ColumnTransformer\n",
    "#    - TargetEncoder separado por columna (roles explícitos)\n",
    "#    - Numéricas pasan \"as is\"\n",
    "# =========================================\n",
    "from sklearn.compose import ColumnTransformer\n",
    "from sklearn.pipeline import Pipeline\n",
    "from sklearn.ensemble import RandomForestClassifier\n",
    "import category_encoders as ce\n",
    "\n",
    "pre = ColumnTransformer(\n",
    "    transformers=[\n",
    "        # Cada TargetEncoder aprende su mapping usando SOLO el fold de train dentro del Pipeline\n",
    "        (\"home_te\", ce.TargetEncoder(handle_missing=\"value\", handle_unknown=\"value\"), [\"home_team\"]),\n",
    "        (\"away_te\", ce.TargetEncoder(handle_missing=\"value\", handle_unknown=\"value\"), [\"away_team\"]),\n",
    "        (\"tour_te\", ce.TargetEncoder(handle_missing=\"value\", handle_unknown=\"value\"), [\"tournament\"]),\n",
    "        (\"num\", \"passthrough\", feat_num),\n",
    "    ],\n",
    "    remainder=\"drop\",\n",
    "    verbose_feature_names_out=False  # nombres de salida más limpios\n",
    ")\n",
    "\n",
    "# =========================================\n",
    "# 7) MODELO (baseline robusto)\n",
    "# =========================================\n",
    "clf = Pipeline(steps=[\n",
    "    (\"pre\", pre),\n",
    "    (\"rf\", RandomForestClassifier(\n",
    "        n_estimators=300,\n",
    "        random_state=42,\n",
    "        n_jobs=-1,\n",
    "        class_weight=\"balanced\"  # para que 'draw' no quede sub-representado\n",
    "    ))\n",
    "])\n",
    "\n",
    "clf.fit(X_tr, y_tr)\n",
    "\n",
    "# =========================================\n",
    "# 8) EVALUACIÓN\n",
    "# =========================================\n",
    "from sklearn.metrics import classification_report, confusion_matrix, ConfusionMatrixDisplay\n",
    "import matplotlib.pyplot as plt\n",
    "\n",
    "y_pred = clf.predict(X_te)\n",
    "\n",
    "print(\"\\nClassification report (test):\")\n",
    "print(classification_report(y_te, y_pred, digits=3))\n",
    "\n",
    "cm = confusion_matrix(y_te, y_pred, labels=[\"win\",\"draw\",\"loss\"], normalize=\"true\")\n",
    "disp = ConfusionMatrixDisplay(confusion_matrix=cm, display_labels=[\"win\",\"draw\",\"loss\"])\n",
    "plt.figure(figsize=(4.5,4))\n",
    "disp.plot(values_format=\".2f\", cmap=None, colorbar=False)\n",
    "plt.title(\"Matriz de confusión normalizada (test)\")\n",
    "plt.show()\n",
    "\n",
    "# =========================================\n",
    "# 9) IMPORTANCIA DE VARIABLES\n",
    "#    Nota: tras el preprocesamiento, obtenemos los nombres de features\n",
    "# =========================================\n",
    "try:\n",
    "    # Nombres de salida del ColumnTransformer\n",
    "    feature_names = clf.named_steps[\"pre\"].get_feature_names_out()\n",
    "except Exception:\n",
    "    # Fallback si la versión no soporta get_feature_names_out()\n",
    "    feature_names = np.array(\n",
    "        [\"home_team_TE\", \"away_team_TE\", \"tournament_TE\"] + feat_num\n",
    "    )\n",
    "\n",
    "# Importancias desde el RandomForest dentro del Pipeline\n",
    "rf = clf.named_steps[\"rf\"]\n",
    "importances = pd.Series(rf.feature_importances_, index=feature_names).sort_values(ascending=False)\n",
    "\n",
    "print(\"\\nTop 12 importancias:\")\n",
    "print(importances.head(12))\n",
    "\n",
    "plt.figure(figsize=(6,4))\n",
    "importances.head(12).sort_values().plot(kind=\"barh\")\n",
    "plt.title(\"Importancia de variables - FIFA (1930+)\")\n",
    "plt.xlabel(\"Importance\")\n",
    "plt.tight_layout()\n",
    "plt.show()"
   ]
  },
  {
   "cell_type": "code",
   "execution_count": 22,
   "id": "1a36414b",
   "metadata": {},
   "outputs": [],
   "source": [
    "# OM Feature engineering\n",
    "results_filtrado[\"year\"] = results_filtrado[\"date\"].dt.year\n",
    "results_filtrado[\"month\"] = results_filtrado[\"date\"].dt.month\n",
    "results_filtrado[\"dayofweek\"] = results_filtrado[\"date\"].dt.dayofweek\n",
    "results_filtrado[\"neutral\"] = results_filtrado[\"neutral\"].astype(int)"
   ]
  },
  {
   "cell_type": "code",
   "execution_count": 23,
   "id": "3f757932",
   "metadata": {},
   "outputs": [],
   "source": [
    "# OM Creamos los datasets de features y target (entrada y salida)\n",
    "X = results_filtrado[[\"tournament\", \"home_team\", \"away_team\", \"neutral\", \"year\", \"month\", \"dayofweek\"]]\n",
    "y = results_filtrado[\"target\"]"
   ]
  },
  {
   "cell_type": "code",
   "execution_count": 24,
   "id": "3a7f426d",
   "metadata": {},
   "outputs": [],
   "source": [
    "# OM Codificación de variables categóricas con Target Encoding\n",
    "\n",
    "encoder = TargetEncoder()\n",
    "X_encoded = encoder.fit_transform(X, y)"
   ]
  },
  {
   "cell_type": "markdown",
   "id": "c003d625",
   "metadata": {},
   "source": [
    "#Fin modelo propuesto por OM"
   ]
  },
  {
   "cell_type": "markdown",
   "id": "f638ef77",
   "metadata": {},
   "source": [
    "Como el dataset original no tiene la variable a predecir, se procede a crearla junto a otras variables utiles para visualizaciones"
   ]
  },
  {
   "cell_type": "code",
   "execution_count": null,
   "id": "443ffdeb",
   "metadata": {},
   "outputs": [],
   "source": [
    "results[\"year\"] = results[\"date\"].dt.year\n",
    "results[\"month\"] = results[\"date\"].dt.month\n",
    "results[\"dayofweek\"] = results[\"date\"].dt.dayofweek\n",
    "results[\"is_weekend\"] = results[\"dayofweek\"].apply(lambda x: 1 if x >= 5 else 0)\n",
    "\n",
    "results[\"goal_diff\"] = abs(results[\"home_score\"] - results[\"away_score\"])\n",
    "results[\"total_score\"] = results[\"home_score\"] + results[\"away_score\"]\n",
    "\n",
    "results[\"result\"] = results.apply(\n",
    "    lambda row: \"win\" if row[\"home_score\"] > row[\"away_score\"] \n",
    "        else (\"lose\" if row[\"home_score\"] < row[\"away_score\"] else \"draw\"),\n",
    "    axis=1)\n",
    "\n",
    "results.head()"
   ]
  },
  {
   "cell_type": "code",
   "execution_count": null,
   "id": "f29669b2",
   "metadata": {},
   "outputs": [],
   "source": [
    "results.info()"
   ]
  },
  {
   "cell_type": "code",
   "execution_count": null,
   "id": "e7d0bf63",
   "metadata": {},
   "outputs": [],
   "source": [
    "results.describe()"
   ]
  },
  {
   "cell_type": "markdown",
   "id": "dc8d2f3a",
   "metadata": {},
   "source": [
    "#### Visualizaciones de variables numéricas"
   ]
  },
  {
   "cell_type": "code",
   "execution_count": null,
   "id": "9b544e14",
   "metadata": {},
   "outputs": [],
   "source": [
    "fig, ax = plt.subplots(1, 2, figsize=(15, 4))\n",
    "\n",
    "ax[0].hist(results['home_score'], bins=20)\n",
    "ax[0].set_title('home_score')\n",
    "ax[1].hist(results['away_score'], bins=20)\n",
    "ax[1].set_title('away_score')\n",
    "\n",
    "plt.show()"
   ]
  },
  {
   "cell_type": "code",
   "execution_count": null,
   "id": "78051c5c",
   "metadata": {},
   "outputs": [],
   "source": [
    "fig, ax = plt.subplots(1, 2, figsize=(15, 4))\n",
    "\n",
    "sns.boxplot(data=results, y=\"home_score\", ax=ax[0])\n",
    "ax[0].set_title('home_score')\n",
    "sns.boxplot(data=results, y=\"away_score\", ax=ax[1])\n",
    "ax[1].set_title('away_score')\n",
    "\n",
    "plt.show()"
   ]
  },
  {
   "cell_type": "markdown",
   "id": "226da4ec",
   "metadata": {},
   "source": [
    "📝 Si bien existen outliers, estos no pueden tratarse como errores ya que son resultados reales de partidos de fútbol."
   ]
  },
  {
   "cell_type": "code",
   "execution_count": null,
   "id": "49f056ac",
   "metadata": {},
   "outputs": [],
   "source": [
    "sns.lineplot(data=results, x=\"year\", y=\"total_score\")\n",
    "plt.title(\"Diferencia de goles en el tiempo\")\n",
    "plt.show()"
   ]
  },
  {
   "cell_type": "markdown",
   "id": "b052c983",
   "metadata": {},
   "source": [
    "📝 Vemos que la cantidad de goles se fuerón estabilizando con el tiempo, lo cual es un indicio de que el nivel de los equipos se fue igualando."
   ]
  },
  {
   "cell_type": "code",
   "execution_count": null,
   "id": "f754b44a",
   "metadata": {},
   "outputs": [],
   "source": [
    "sns.boxplot(data=results, y=\"total_score\", hue=\"result\")\n",
    "plt.title(\"Total de goles según el resultado\")\n",
    "plt.show()"
   ]
  },
  {
   "cell_type": "code",
   "execution_count": null,
   "id": "1be60762",
   "metadata": {},
   "outputs": [],
   "source": [
    "corr = results[[\"home_score\", \"away_score\", \"total_score\", \"goal_diff\"]].corr()\n",
    "plt.figure(figsize=(6, 4))\n",
    "sns.heatmap(corr, annot=True, cmap='coolwarm', fmt=\".2f\")\n",
    "plt.title('Matriz de Correlación')\n",
    "plt.show()"
   ]
  },
  {
   "cell_type": "markdown",
   "id": "358edf74",
   "metadata": {},
   "source": [
    "#### Visualización de variables categoricas"
   ]
  },
  {
   "cell_type": "code",
   "execution_count": null,
   "id": "92ecadc5",
   "metadata": {},
   "outputs": [],
   "source": [
    "results[\"home_team\"] = results[\"home_team\"].astype('category')\n",
    "results[\"away_team\"] = results[\"away_team\"].astype('category')\n",
    "results[\"tournament\"] = results[\"tournament\"].astype('category')\n",
    "results[\"city\"] = results[\"city\"].astype('category')\n",
    "results[\"country\"] = results[\"country\"].astype('category')\n",
    "results[\"result\"] = results[\"result\"].astype('category')\n"
   ]
  },
  {
   "cell_type": "code",
   "execution_count": null,
   "id": "e68e0325",
   "metadata": {},
   "outputs": [],
   "source": [
    "results.describe(include='category')"
   ]
  },
  {
   "cell_type": "markdown",
   "id": "dbf2a2ea",
   "metadata": {},
   "source": [
    "Veamos la distribución del target"
   ]
  },
  {
   "cell_type": "code",
   "execution_count": null,
   "id": "0671cd4f",
   "metadata": {},
   "outputs": [],
   "source": [
    "fig, ax = plt.subplots(1, 2, figsize=(10, 4))\n",
    "\n",
    "sns.countplot(data=results, x=\"result\", order=[\"win\",\"draw\",\"lose\"], ax=ax[0])\n",
    "ax[0].set_title(\"Distribución de resultados\")\n",
    "\n",
    "results_counts = results['result'].value_counts()\n",
    "ax[1].pie(results_counts, labels=results_counts.index, autopct='%1.2f%%', startangle=90, colors=sns.color_palette('pastel'))\n",
    "ax[1].set_title('Porcentaje de resutados')\n",
    "\n",
    "plt.show()"
   ]
  },
  {
   "cell_type": "markdown",
   "id": "b371db3e",
   "metadata": {},
   "source": [
    "📝 A partir de los graficos de los resultados, vemos un cierto desbalance en las clases. Esto podría afectar el rendimiento del modelo, haciendo que aprenda mas la clase mayoritaria (win)."
   ]
  },
  {
   "cell_type": "code",
   "execution_count": null,
   "id": "bbdc4853",
   "metadata": {},
   "outputs": [],
   "source": [
    "sns.countplot(data=results, x=\"result\", order=[\"win\",\"draw\",\"lose\"], hue=\"neutral\")\n",
    "plt.title(\"Distribución de resultados segun sí el local jugó en su país\")\n",
    "plt.show()"
   ]
  },
  {
   "cell_type": "markdown",
   "id": "0d6364a9",
   "metadata": {},
   "source": [
    "Como la cardinalidad de las variables categoricas es muy alta, vamos a graficar aquellos valores que más se destacan:"
   ]
  },
  {
   "cell_type": "code",
   "execution_count": null,
   "id": "d81d8389",
   "metadata": {},
   "outputs": [],
   "source": [
    "plt.figure(figsize=(10,5))\n",
    "results[\"tournament\"].value_counts().head(20).plot(kind=\"bar\")\n",
    "plt.title(\"Torneos con más partidos jugados\")\n",
    "plt.show()"
   ]
  },
  {
   "cell_type": "code",
   "execution_count": null,
   "id": "c618e798",
   "metadata": {},
   "outputs": [],
   "source": [
    "plt.figure(figsize=(8, 4))\n",
    "results[\"country\"].value_counts().head(10).plot(kind=\"bar\")\n",
    "plt.title(\"Paises donde se jugaron más partidos\")\n",
    "plt.show()"
   ]
  },
  {
   "cell_type": "markdown",
   "id": "0426c8a8",
   "metadata": {},
   "source": [
    "📝 De los torneos, se destaca el tipo \"amistoso\" pero también aparecen torneos pocos conocidos a la par de otros mas conocidos a nivel mundial. La cardinalidad de los torneos puede influir al momento de evaluar los modelos.\n",
    "\n",
    "Con los paises sucede algo similar, paises como Malasia o Tailandia tienen una cantidad de partidos importantes."
   ]
  },
  {
   "cell_type": "code",
   "execution_count": null,
   "id": "d00ac6e8",
   "metadata": {},
   "outputs": [],
   "source": [
    "home_winners = results[results[\"result\"] == \"win\"]\n",
    "away_winners = results[results[\"result\"] == \"lose\"]\n",
    "\n",
    "fig, ax = plt.subplots(1, 2, figsize=(15, 5))\n",
    "\n",
    "home_winners[\"home_team\"].value_counts().head(10).plot(kind=\"bar\", ax=ax[0])\n",
    "ax[0].set_title(\"Equipos más ganadores como local\")\n",
    "away_winners[\"away_team\"].value_counts().head(10).plot(kind=\"bar\", ax=ax[1])\n",
    "ax[1].set_title(\"Equipos más ganadores como visitante\")\n",
    "plt.show()"
   ]
  },
  {
   "cell_type": "markdown",
   "id": "315f0f2a",
   "metadata": {},
   "source": [
    " ##### 2) Preprocesamiento y Preparación de Datos: Descripción de las transformaciones aplicadas a los datos para prepararlos para el modelado. Esto incluye, pero no se limita a: limpieza de datos, imputación de valores faltantes, codificación de variables categóricas, escalado de características, etc."
   ]
  },
  {
   "cell_type": "markdown",
   "id": "bdaaa0f7",
   "metadata": {},
   "source": [
    "📝 En base al analisis previo, se decide filtrar los datos a partir de 1920. Antes de esa fecha, había más diferencia entre los equipos (mayor diferencia de goles).\n",
    "\n",
    "Otros filtros a considerar que pueden introducir ruido en el modelo:\n",
    "* Cardinalidad de los torneos: existen demasiados torneos por lo cual podría ser conveniente centrarse en los mas conocidos."
   ]
  },
  {
   "cell_type": "code",
   "execution_count": null,
   "id": "88d0ec5b",
   "metadata": {},
   "outputs": [],
   "source": [
    "results_filtered = results[results[\"year\"] >= 1920].reset_index(drop=True)\n",
    "\n",
    "print(\"Original\", results.shape)\n",
    "print(\"Filtrado\", results_filtered.shape)"
   ]
  },
  {
   "cell_type": "markdown",
   "id": "ed9adfb1",
   "metadata": {},
   "source": [
    "📝 Como el objetivo es predecir el resultado del partido, no podemos usar los registros como tal ya que estos son posteriores al partido. Por lo tanto, se crean nuevas variables que representen el rendimiento de los equipos en los últimos partidos jugados, y de esta forma evitamos el *data leakage*. Por ejemplo:\n",
    "- Tasa de partidos ganados en los últimos N partidos\n",
    "- Promedio de goles a favor y en contra en los últimos N partidos"
   ]
  },
  {
   "cell_type": "code",
   "execution_count": null,
   "id": "fdd4b741",
   "metadata": {},
   "outputs": [],
   "source": [
    "window_size = 10  # cantidad de partidos a considerar\n",
    "\n",
    "# Calcular winrate del equipo local\n",
    "results_filtered[\"home_n_winrate\"] = (\n",
    "    results_filtered.groupby(\"home_team\")[\"result\"]\n",
    "      .apply(lambda x: x.shift().eq(\"win\").rolling(window_size, min_periods=1).mean())\n",
    "      .reset_index(level=0, drop=True)\n",
    ")\n",
    "\n",
    "# Calcular winrate del equipo visitante\n",
    "results_filtered['away_n_winrate'] = (\n",
    "    results_filtered.groupby('away_team')['result']\n",
    "      .apply(lambda x: x.shift().eq(\"lose\").rolling(window_size, min_periods=1).mean())\n",
    "      .reset_index(level=0, drop=True)\n",
    ")\n",
    "\n",
    "\n",
    "# Promedio de goles a favor\n",
    "results_filtered['home_n_avg_gf'] = (\n",
    "    results_filtered.groupby('home_team')['home_score']\n",
    "      .apply(lambda x: x.shift().rolling(window_size, min_periods=1).mean())\n",
    "      .reset_index(level=0, drop=True)\n",
    ")\n",
    "\n",
    "results_filtered['away_n_avg_gf'] = (\n",
    "    results_filtered.groupby('away_team')['away_score']\n",
    "      .apply(lambda x: x.shift().rolling(window_size, min_periods=1).mean())\n",
    "      .reset_index(level=0, drop=True)\n",
    ")\n",
    "\n",
    "# Promedio de goles en contra\n",
    "results_filtered['home_n_avg_ga'] = (\n",
    "    results_filtered.groupby('home_team')['away_score']\n",
    "      .apply(lambda x: x.shift().rolling(window_size, min_periods=1).mean())\n",
    "      .reset_index(level=0, drop=True)\n",
    ")\n",
    "\n",
    "results_filtered['away_n_avg_ga'] = (\n",
    "    results_filtered.groupby('away_team')['home_score']\n",
    "      .apply(lambda x: x.shift().rolling(window_size, min_periods=1).mean())\n",
    "      .reset_index(level=0, drop=True)\n",
    ")"
   ]
  },
  {
   "cell_type": "code",
   "execution_count": null,
   "id": "089eedfa",
   "metadata": {},
   "outputs": [],
   "source": [
    "print(\"Nulos en base al procesamiento:\\n\", results_filtered.isna().sum()[results_filtered.isna().sum() > 0])"
   ]
  },
  {
   "cell_type": "markdown",
   "id": "033a80fb",
   "metadata": {},
   "source": [
    "Como aparecen valores nulos, se decide imputar estos valores con 1."
   ]
  },
  {
   "cell_type": "code",
   "execution_count": null,
   "id": "ff5915b9",
   "metadata": {},
   "outputs": [],
   "source": [
    "features_nulls = [\n",
    "    'home_n_avg_gf', 'away_n_avg_gf',\n",
    "    'home_n_avg_ga', 'away_n_avg_ga',\n",
    "]\n",
    "\n",
    "results_filtered[features_nulls] = results_filtered[features_nulls].fillna(1.0)"
   ]
  },
  {
   "cell_type": "markdown",
   "id": "9e9392b5",
   "metadata": {},
   "source": [
    "Codificamos las variables categoricas:\n",
    "- result se codifica con LabelEncoder por ser la variable a predecir\n",
    "- home_team, away_team, tournament se codifican con TargetEncoder por tener una cardinalidad alta"
   ]
  },
  {
   "cell_type": "code",
   "execution_count": null,
   "id": "5d6f0b6c",
   "metadata": {},
   "outputs": [],
   "source": [
    "result_encoder = LabelEncoder()\n",
    "results_filtered[\"result_enc\"] = result_encoder.fit_transform(results_filtered[\"result\"])\n",
    "print(\"Clases del resultado: \", result_encoder.classes_)\n",
    "\n",
    "tournament_encoder = TargetEncoder()\n",
    "results_filtered[\"tournament_enc\"] = tournament_encoder.fit_transform(results_filtered[\"tournament\"], results_filtered[\"result_enc\"])\n",
    "\n",
    "home_team_encoder = TargetEncoder()\n",
    "results_filtered[\"home_team_enc\"] = home_team_encoder.fit_transform(results_filtered[\"home_team\"], results_filtered[\"result_enc\"])\n",
    "\n",
    "away_team_encoder = TargetEncoder()\n",
    "results_filtered[\"away_team_enc\"] = away_team_encoder.fit_transform(results_filtered[\"away_team\"], results_filtered[\"result_enc\"])\n",
    "\n",
    "results_filtered[\"neutral\"] = results_filtered[\"neutral\"].astype(int)"
   ]
  },
  {
   "cell_type": "markdown",
   "id": "c688a82e",
   "metadata": {},
   "source": [
    "📝 Como el resultado de un partido puede estar influenciado por resultados anteriores (el rendimiento previo que tuvo el equipo), se decide tratar al dataset como una **serie temporal**. Por lo tanto, se divide en conjunto de entrenamiento y prueba según una fecha determinada."
   ]
  },
  {
   "cell_type": "code",
   "execution_count": null,
   "id": "c993cd97",
   "metadata": {},
   "outputs": [],
   "source": [
    "train = results_filtered[results_filtered[\"date\"] < \"2015-01-01\"]\n",
    "test = results_filtered[results_filtered[\"date\"] >= \"2015-01-01\"]\n",
    "print(f\"Train size: {(len(train)/len(results_filtered))*100:.2f} %\")\n",
    "print(f\"Test size: {(len(test)/len(results_filtered))*100:.2f} %\")"
   ]
  },
  {
   "cell_type": "code",
   "execution_count": null,
   "id": "af47d9a0",
   "metadata": {},
   "outputs": [],
   "source": [
    "# Definimos las features que usaremos para el modelo:\n",
    "features = [\n",
    "    'home_n_winrate', 'away_n_winrate',\n",
    "    'home_n_avg_gf', 'away_n_avg_gf',\n",
    "    'home_n_avg_ga', 'away_n_avg_ga',\n",
    "    'neutral', 'tournament_enc',\n",
    "    'home_team_enc', 'away_team_enc',\n",
    "    'month', 'is_weekend'\n",
    "]\n",
    "\n",
    "target = \"result_enc\"\n",
    "\n",
    "X_train, y_train = train[features], train[target]\n",
    "X_test, y_test = test[features], test[target]"
   ]
  },
  {
   "cell_type": "markdown",
   "id": "a7c62ad3",
   "metadata": {},
   "source": [
    "Finalmente, se estandarizan las variables para que todas tengan la misma escala."
   ]
  },
  {
   "cell_type": "code",
   "execution_count": null,
   "id": "76db8d55",
   "metadata": {},
   "outputs": [],
   "source": [
    "scaler = StandardScaler()\n",
    "\n",
    "X_train = scaler.fit_transform(X_train)\n",
    "\n",
    "X_test = scaler.transform(X_test)"
   ]
  },
  {
   "cell_type": "markdown",
   "id": "68385a7d",
   "metadata": {},
   "source": [
    "##### 3) Modelado: Construcción y entrenamiento de los modelos de aprendizaje automático."
   ]
  },
  {
   "cell_type": "markdown",
   "id": "60bf3a8b",
   "metadata": {},
   "source": [
    "📝 Para modelar el problema, se van a utilizar diferentes algoritmos de clasificación para hacer un analisis comparativo y ver cual se adapta mejor al problema."
   ]
  },
  {
   "cell_type": "code",
   "execution_count": null,
   "id": "fa05d2a3",
   "metadata": {},
   "outputs": [],
   "source": [
    "# Modelo baseline: regresión logística multiclase\n",
    "logreg = LogisticRegression(max_iter=1000, class_weight=\"balanced\")\n",
    "logreg.fit(X_train, y_train)\n",
    "\n",
    "y_pred_logreg = logreg.predict(X_test)\n",
    "\n",
    "#print_classification_results(y_test, y_pred, \"Regresión Logística\")"
   ]
  },
  {
   "cell_type": "code",
   "execution_count": null,
   "id": "8033ec7a",
   "metadata": {},
   "outputs": [],
   "source": [
    "# KNN\n",
    "knn = KNeighborsClassifier(n_neighbors=21, metric=\"minkowski\", p=2)\n",
    "knn.fit(X_train, y_train)\n",
    "\n",
    "y_pred_knn = knn.predict(X_test)\n",
    "\n",
    "#print_classification_results(y_test, y_pred, \"KNN\")"
   ]
  },
  {
   "cell_type": "code",
   "execution_count": null,
   "id": "2e3de887",
   "metadata": {},
   "outputs": [],
   "source": [
    "svc = SVC(C=5, kernel=\"rbf\", decision_function_shape='ovr', probability=True)\n",
    "svc.fit(X_train, y_train)\n",
    "\n",
    "y_pred_svc = svc.predict(X_test)\n",
    "\n",
    "#print_classification_results(y_test, y_pred, \"SVC\")"
   ]
  },
  {
   "cell_type": "code",
   "execution_count": null,
   "id": "e7692777",
   "metadata": {},
   "outputs": [],
   "source": [
    "# Arbol de decisión\n",
    "dtc = DecisionTreeClassifier(criterion='entropy', splitter='best', \n",
    "                                        max_depth=10, min_samples_split=8, min_samples_leaf=5,\n",
    "                                        class_weight='balanced',\n",
    "                                        random_state=42)\n",
    "dtc.fit(X_train, y_train)\n",
    "\n",
    "y_pred_dtc = dtc.predict(X_test)\n",
    "\n",
    "#print_classification_results(y_test, y_pred, \"Árbol de Decisión\")"
   ]
  },
  {
   "cell_type": "code",
   "execution_count": null,
   "id": "60b25f3a",
   "metadata": {},
   "outputs": [],
   "source": [
    "# Random Forest\n",
    "rfc = RandomForestClassifier(n_estimators=50, criterion='entropy', max_depth=15, \n",
    "                             min_samples_split=8, min_samples_leaf=3, \n",
    "                             class_weight='balanced', random_state=42)\n",
    "rfc.fit(X_train, y_train)\n",
    "\n",
    "y_pred_rfc = rfc.predict(X_test)\n",
    "\n",
    "#print_classification_results(y_test, y_pred, \"Random Forest\")"
   ]
  },
  {
   "cell_type": "markdown",
   "id": "370404a7",
   "metadata": {},
   "source": [
    "##### 4) Evaluación de Resultados: Análisis cuantitativo y cualitativo del rendimiento de los modelos utilizando métricas apropiadas. Se deben interpretar los resultados en el contexto del problema original."
   ]
  },
  {
   "cell_type": "markdown",
   "id": "f4d8c669",
   "metadata": {},
   "source": [
    "📝 En el contexto de este problema, queremos que el modelo prediga las clases del resultado por igual. Por lo que nos vamos a enfocar en la métrica de accuracy, pero como existe un desbalance en las clases, también se va a considerar la métrica de F1-score global y log loss."
   ]
  },
  {
   "cell_type": "code",
   "execution_count": null,
   "id": "0a46929c",
   "metadata": {},
   "outputs": [],
   "source": [
    "# Funcion para imprimir resultados de clasificación\n",
    "def print_classification_results(y_test, y_pred, model_name):\n",
    "    target_names = result_encoder.classes_\n",
    "    print(f\"\\nResultados para {model_name}:\")\n",
    "\n",
    "    print(\"\\nAccuracy:\", accuracy_score(y_test, y_pred))\n",
    "    print(\"F1-score (macro):\", f1_score(y_test, y_pred, average='macro'))\n",
    "\n",
    "    print(\"\\nClassification Report:\\n\", \n",
    "          classification_report(y_test, y_pred, \n",
    "                              target_names=target_names,\n",
    "                              zero_division=0))\n",
    "    \n",
    "    cm = confusion_matrix(y_test, y_pred)\n",
    "    sns.heatmap(cm, annot=True, fmt=\"d\", cmap=\"cool\", cbar=True,\n",
    "                xticklabels=target_names,\n",
    "                yticklabels=target_names)\n",
    "    plt.tight_layout()\n",
    "    plt.title(f'Matriz de Confusión - {model_name}')\n",
    "    plt.show()"
   ]
  },
  {
   "cell_type": "code",
   "execution_count": null,
   "id": "3a5977ee",
   "metadata": {},
   "outputs": [],
   "source": [
    "print_classification_results(y_test, y_pred_logreg, \"Regresión Logística\")\n",
    "\n",
    "print_classification_results(y_test, y_pred_knn, \"KNN\")\n",
    "\n",
    "print_classification_results(y_test, y_pred_svc, \"SVC\")\n",
    "\n",
    "print_classification_results(y_test, y_pred_dtc, \"Árbol de Decisión\")\n",
    "\n",
    "print_classification_results(y_test, y_pred_rfc, \"Random Forest\")"
   ]
  },
  {
   "cell_type": "markdown",
   "id": "7ce0ab2c",
   "metadata": {},
   "source": [
    "---\n",
    "\n",
    "📝 No se obtuvieron resultados muy favorables. Algunas cosas a analizar:\n",
    "- La cantidad de observaciones puede ser insuficiente para entrenar los modelos.\n",
    "- Alta cardinalidad de los tipos de torneos. Utilizar los mas conocidos o agrupar los menos conocidos en una sola categoria.\n",
    "- Target con desbalance de clases. Podria ser mas conveniente utilizar un objetivo binario (win/lose)."
   ]
  }
 ],
 "metadata": {
  "kernelspec": {
   "display_name": "tpAdM-kernel",
   "language": "python",
   "name": "tpadm-kernel"
  },
  "language_info": {
   "codemirror_mode": {
    "name": "ipython",
    "version": 3
   },
   "file_extension": ".py",
   "mimetype": "text/x-python",
   "name": "python",
   "nbconvert_exporter": "python",
   "pygments_lexer": "ipython3",
   "version": "3.11.13"
  }
 },
 "nbformat": 4,
 "nbformat_minor": 5
}
